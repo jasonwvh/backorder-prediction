{
  "nbformat": 4,
  "nbformat_minor": 0,
  "metadata": {
    "colab": {
      "name": "Data Mining Portfolio.ipynb",
      "provenance": [],
      "collapsed_sections": []
    },
    "kernelspec": {
      "display_name": "Python 3",
      "name": "python3"
    }
  },
  "cells": [
    {
      "cell_type": "markdown",
      "metadata": {
        "id": "VMxSM1s7ZUTc"
      },
      "source": [
        "---\n",
        "\n",
        "# **Product Backorders**\n",
        "\n",
        "---\n",
        "\n",
        "## Introduction\n",
        "A **product backorder** is a customer order that has not been fulfilled. Product backorder may be the result of strong sales performance (e.g. the product is in such high demand that production cannot keep up with sales). However, backorders can upset consumers, lead to canceled orders and decreased customer loyalty. Companies want to avoid backorders, but also avoid overstocking every product (leading to higher inventory costs). Hence, this project aims to develop a product that can predict if a product will go on backorder not.\n",
        "\n",
        "---\n",
        "\n",
        "## Problem Statement\n",
        "1.   What are the variables that lead to backorder?\n",
        "2.   What are the relationship between the varialbes?\n",
        "\n",
        "---\n",
        "\n",
        "## Hypothesis\n",
        "National inventory and sales performance are directly correlated with backorder.\n",
        "\n",
        "---\n",
        "\n",
        "## Objective\n",
        "1.   To identify the relationship between the attributes\n",
        "2.   To identify which attributes correlates most to backorder\n",
        "3.   To predict backorder by selecting relevant attributes\n",
        "\n",
        "---\n",
        "\n",
        "## Dataset\n",
        "From the [Backorders Wiki Page](https://github.com/AasthaMadan/Product-Backorders/wiki/Product-back-orders-prediction), we can find the information about the dataset\n",
        "\n",
        "*   sku – Random ID for the product\n",
        "*   national_inv – Current inventory level for the part\n",
        "*   lead_time – Transit time for product (if available)\n",
        "*   in_transit_qty – Amount of product in transit from source\n",
        "*   forecast_3_month – Forecast sales for the next 3 months\n",
        "*   forecast_6_month – Forecast sales for the next 6 months\n",
        "*   forecast_9_month – Forecast sales for the next 9 months\n",
        "*   sales_1_month – Sales quantity for the prior 1 month time period\n",
        "*   sales_3_month – Sales quantity for the prior 3 month time period\n",
        "*   sales_6_month – Sales quantity for the prior 6 month time period\n",
        "*   sales_9_month – Sales quantity for the prior 9 month time period\n",
        "*   min_bank – Minimum recommend amount to stock\n",
        "*   potential_issue – Source issue for part identified\n",
        "*   pieces_past_due – Parts overdue from source\n",
        "*   perf_6_month_avg – Source performance for prior 6 month period\n",
        "*   perf_12_month_avg – Source performance for prior 12 month period\n",
        "*   local_bo_qty – Amount of stock orders overdue\n",
        "*   deck_risk – Part risk flag\n",
        "*   oe_constraint – Part risk flag\n",
        "*   ppap_risk – Part risk flag\n",
        "*   stop_auto_buy – Part risk flag\n",
        "*   rev_stop – Part risk flag\n",
        "*   went_on_backorder – Product actually went on backorder.\n",
        "\n",
        "---\n",
        "\n",
        "\n",
        "\n",
        "\n"
      ]
    },
    {
      "cell_type": "markdown",
      "metadata": {
        "id": "1sUjm2hDZm4a"
      },
      "source": [
        "# **Exploratory Data Analysis**\r\n",
        "\r\n",
        "Exploratory data analysis is the inital investigation of data so as to discover patterns, spot anomalies, and test hypothesis with the help of statistics.\r\n",
        "\r\n",
        "To do this, we will first import our datasets and merge them using the pandas library"
      ]
    },
    {
      "cell_type": "code",
      "metadata": {
        "colab": {
          "base_uri": "https://localhost:8080/"
        },
        "id": "1fUlMS5cZ774",
        "outputId": "d00352ae-5aa6-4a81-c39e-2c63558cb0e6"
      },
      "source": [
        "import pandas as pd\r\n",
        "\r\n",
        "# Load train and test data\r\n",
        "train_df = pd.read_csv(\"drive/MyDrive/data_mining_portfolio/Kaggle_Training_Dataset_v2.csv\")\r\n",
        "test_df = pd.read_csv(\"drive/MyDrive/data_mining_portfolio/Kaggle_Test_Dataset_v2.csv\")\r\n",
        "\r\n",
        "# Merge both the datasets\r\n",
        "merged_df = pd.concat([train_df, test_df])"
      ],
      "execution_count": null,
      "outputs": [
        {
          "output_type": "stream",
          "text": [
            "/usr/local/lib/python3.6/dist-packages/IPython/core/interactiveshell.py:2718: DtypeWarning: Columns (0) have mixed types.Specify dtype option on import or set low_memory=False.\n",
            "  interactivity=interactivity, compiler=compiler, result=result)\n"
          ],
          "name": "stderr"
        }
      ]
    },
    {
      "cell_type": "markdown",
      "metadata": {
        "id": "sBAIPQT5apCq"
      },
      "source": [
        "Next, we can look at some properties of the dataset such as shape, data types, and part of the actual data itself. "
      ]
    },
    {
      "cell_type": "code",
      "metadata": {
        "colab": {
          "base_uri": "https://localhost:8080/"
        },
        "id": "jG7k9-cbOl63",
        "outputId": "efe9cf26-6196-43f8-9ae8-520b62ca9e84"
      },
      "source": [
        "# Size of dataset\r\n",
        "print(\"Shape:\\n\", merged_df.shape)\r\n",
        "\r\n",
        "# Look at the data types\r\n",
        "print(\"\\nDatatypes:\\n\", merged_df.dtypes)\r\n",
        "\r\n",
        "# An initial look at the 1st 5 rows \r\n",
        "print(\"\\nFirst 5:\\n\", merged_df.head())\r\n",
        "\r\n",
        "# The last 5 rows\r\n",
        "print(\"\\nLast5:\\n\", merged_df.tail())\r\n",
        "\r\n",
        "# Count number of null values for each variable\r\n",
        "print(\"\\nNulls:\\n\", merged_df.isnull().sum())"
      ],
      "execution_count": null,
      "outputs": [
        {
          "output_type": "stream",
          "text": [
            "Shape:\n",
            " (1929937, 23)\n",
            "\n",
            "Datatypes:\n",
            " sku                   object\n",
            "national_inv         float64\n",
            "lead_time            float64\n",
            "in_transit_qty       float64\n",
            "forecast_3_month     float64\n",
            "forecast_6_month     float64\n",
            "forecast_9_month     float64\n",
            "sales_1_month        float64\n",
            "sales_3_month        float64\n",
            "sales_6_month        float64\n",
            "sales_9_month        float64\n",
            "min_bank             float64\n",
            "potential_issue       object\n",
            "pieces_past_due      float64\n",
            "perf_6_month_avg     float64\n",
            "perf_12_month_avg    float64\n",
            "local_bo_qty         float64\n",
            "deck_risk             object\n",
            "oe_constraint         object\n",
            "ppap_risk             object\n",
            "stop_auto_buy         object\n",
            "rev_stop              object\n",
            "went_on_backorder     object\n",
            "dtype: object\n",
            "\n",
            "First 5:\n",
            "        sku  national_inv  lead_time  ...  stop_auto_buy  rev_stop  went_on_backorder\n",
            "0  1026827           0.0        NaN  ...            Yes        No                 No\n",
            "1  1043384           2.0        9.0  ...            Yes        No                 No\n",
            "2  1043696           2.0        NaN  ...            Yes        No                 No\n",
            "3  1043852           7.0        8.0  ...            Yes        No                 No\n",
            "4  1044048           8.0        NaN  ...            Yes        No                 No\n",
            "\n",
            "[5 rows x 23 columns]\n",
            "\n",
            "Last5:\n",
            "                   sku  national_inv  ...  rev_stop  went_on_backorder\n",
            "242071        3526988          13.0  ...        No                 No\n",
            "242072        3526989          13.0  ...        No                 No\n",
            "242073        3526990          10.0  ...        No                 No\n",
            "242074        3526991        2913.0  ...        No                 No\n",
            "242075  (242075 rows)           NaN  ...       NaN                NaN\n",
            "\n",
            "[5 rows x 23 columns]\n",
            "\n",
            "Nulls:\n",
            " sku                       0\n",
            "national_inv              2\n",
            "lead_time            115619\n",
            "in_transit_qty            2\n",
            "forecast_3_month          2\n",
            "forecast_6_month          2\n",
            "forecast_9_month          2\n",
            "sales_1_month             2\n",
            "sales_3_month             2\n",
            "sales_6_month             2\n",
            "sales_9_month             2\n",
            "min_bank                  2\n",
            "potential_issue           2\n",
            "pieces_past_due           2\n",
            "perf_6_month_avg          2\n",
            "perf_12_month_avg         2\n",
            "local_bo_qty              2\n",
            "deck_risk                 2\n",
            "oe_constraint             2\n",
            "ppap_risk                 2\n",
            "stop_auto_buy             2\n",
            "rev_stop                  2\n",
            "went_on_backorder         2\n",
            "dtype: int64\n"
          ],
          "name": "stdout"
        }
      ]
    },
    {
      "cell_type": "markdown",
      "metadata": {
        "id": "MiB63iiQV0pV"
      },
      "source": [
        "We find out that:\r\n",
        "\r\n",
        "*   We can see there's almost 2 million records with 23 different attributes,\r\n",
        "*   15 of these attributes are numerical\r\n",
        "*   8 of these attributes are non-numerical\r\n",
        "*   lead_time has 115619 null values\r\n",
        "\r\n",
        "---\r\n",
        "\r\n",
        "We now aggregate the dataset, first a summary of the overall dataset, then a summary with separating the classes."
      ]
    },
    {
      "cell_type": "code",
      "metadata": {
        "colab": {
          "base_uri": "https://localhost:8080/"
        },
        "id": "YPwThjgROmLe",
        "outputId": "7a2b7a5f-3de6-444b-ed75-a839937dea56"
      },
      "source": [
        "# Select numerical parameters\r\n",
        "num_params = ['national_inv',\r\n",
        "           'lead_time',\r\n",
        "           'in_transit_qty',\r\n",
        "           'forecast_3_month',\r\n",
        "           'forecast_6_month',\r\n",
        "           'forecast_9_month',\r\n",
        "           'sales_1_month',\r\n",
        "           'sales_3_month',\r\n",
        "           'sales_6_month',\r\n",
        "           'sales_9_month',\r\n",
        "           'min_bank',\r\n",
        "           'pieces_past_due',\r\n",
        "           'perf_6_month_avg',\r\n",
        "           'perf_12_month_avg',\r\n",
        "           'local_bo_qty']\r\n",
        "\r\n",
        "# Describe data\r\n",
        "print(\"\\nSummary:\\n\", merged_df[num_params].describe().transpose())\r\n",
        "\r\n",
        "# Pivot backorder\r\n",
        "print(\"\\nBackorder:\\n\", merged_df.pivot_table(values=num_params,index=['went_on_backorder']).transpose())\r\n",
        "\r\n",
        "# Class proportion for target variable\r\n",
        "print(\"\\nProportion of Backorder before SMOTE:\\n\", merged_df['went_on_backorder'].value_counts(normalize=True))"
      ],
      "execution_count": null,
      "outputs": [
        {
          "output_type": "stream",
          "text": [
            "\n",
            "Summary:\n",
            "                        count        mean  ...    75%         max\n",
            "national_inv       1929935.0  496.568259  ...  80.00  12334404.0\n",
            "lead_time          1814318.0    7.878627  ...   9.00        52.0\n",
            "in_transit_qty     1929935.0   43.064397  ...   0.00    489408.0\n",
            "forecast_3_month   1929935.0  178.539864  ...   4.00   1510592.0\n",
            "forecast_6_month   1929935.0  345.465893  ...  12.00   2461360.0\n",
            "forecast_9_month   1929935.0  506.606748  ...  20.00   3777304.0\n",
            "sales_1_month      1929935.0   55.368164  ...   4.00    741774.0\n",
            "sales_3_month      1929935.0  174.663858  ...  15.00   1105478.0\n",
            "sales_6_month      1929935.0  341.565349  ...  31.00   2146625.0\n",
            "sales_9_month      1929935.0  523.577094  ...  47.00   3205172.0\n",
            "min_bank           1929935.0   52.776366  ...   3.00    313319.0\n",
            "pieces_past_due    1929935.0    2.016193  ...   0.00    146496.0\n",
            "perf_6_month_avg   1929935.0   -6.899870  ...   0.96         1.0\n",
            "perf_12_month_avg  1929935.0   -6.462343  ...   0.95         1.0\n",
            "local_bo_qty       1929935.0    0.653704  ...   0.00     12530.0\n",
            "\n",
            "[15 rows x 8 columns]\n",
            "\n",
            "Backorder:\n",
            " went_on_backorder          No         Yes\n",
            "forecast_3_month   178.566740  174.856734\n",
            "forecast_6_month   345.974100  275.821257\n",
            "forecast_9_month   507.636728  365.458479\n",
            "in_transit_qty      43.344159    4.725842\n",
            "lead_time            7.890117    6.354233\n",
            "local_bo_qty         0.626744    4.348258\n",
            "min_bank            52.962026   27.333524\n",
            "national_inv       500.036607   21.266361\n",
            "perf_12_month_avg   -6.488200   -2.918946\n",
            "perf_6_month_avg    -6.926540   -3.245012\n",
            "pieces_past_due      2.003972    3.691009\n",
            "sales_1_month       55.556432   29.567914\n",
            "sales_3_month      175.322597   84.390315\n",
            "sales_6_month      342.979619  147.753952\n",
            "sales_9_month      525.812742  217.204134\n",
            "\n",
            "Proportion of Backorder before SMOTE:\n",
            " No     0.992756\n",
            "Yes    0.007244\n",
            "Name: went_on_backorder, dtype: float64\n"
          ],
          "name": "stdout"
        }
      ]
    },
    {
      "cell_type": "markdown",
      "metadata": {
        "id": "j8TmySTDBDPn"
      },
      "source": [
        "We find that overall:\r\n",
        "*   The mean inventory of products is about 500\r\n",
        "*   The mean product in transit is 43\r\n",
        "*   The mean sales per month is 55\r\n",
        "\r\n",
        "When separated by class:\r\n",
        "*   The product that did not go on backorders, have high inventory, but also higher sales and quantity in transit.\r\n",
        "*   The product that go on backorders, have low inventory, but also lower sales and quantity in transit.\r\n",
        "*   **For products that go on backorder, the sales is higher than the inventory, whereas for products that do not go on backorder, the sales is lower than the inventory.**\r\n",
        "\r\n",
        "This confirms our hypothesis, in that national inventory and sales performance are directly correlated with backorder.\r\n",
        "\r\n",
        "---\r\n",
        "\r\n",
        "Now we can construct a correlation matrix to see the correlation between each attributes. "
      ]
    },
    {
      "cell_type": "code",
      "metadata": {
        "colab": {
          "base_uri": "https://localhost:8080/",
          "height": 360
        },
        "id": "djHKat54BCkf",
        "outputId": "339daa57-10e0-4c5f-d7a0-ae2f96b0eafd"
      },
      "source": [
        "import matplotlib.pyplot as plt\r\n",
        "import numpy as np\r\n",
        "\r\n",
        "# Correlation Matrix Plot of all variables\r\n",
        "varnames=list(merged_df)[1:]    \r\n",
        "correlations = merged_df[varnames].corr()\r\n",
        "fig = plt.figure()\r\n",
        "ax = fig.add_subplot(111)\r\n",
        "cax = ax.matshow(correlations, vmin=-1, vmax=1)\r\n",
        "fig.colorbar(cax)\r\n",
        "ticks = np.arange(0,23,1)\r\n",
        "ax.set_xticks(ticks)\r\n",
        "ax.set_yticks(ticks)\r\n",
        "ax.set_xticklabels(varnames,rotation=90)\r\n",
        "ax.set_yticklabels(varnames)\r\n",
        "plt.show()"
      ],
      "execution_count": null,
      "outputs": [
        {
          "output_type": "display_data",
          "data": {
            "image/png": "[encoded data removed]",
            "text/plain": [
              "<Figure size 432x288 with 2 Axes>"
            ]
          },
          "metadata": {
            "tags": [],
            "needs_background": "light"
          }
        }
      ]
    },
    {
      "cell_type": "markdown",
      "metadata": {
        "id": "mTd29pvsTtNw"
      },
      "source": [
        "We can see that:\r\n",
        "\r\n",
        "*   Sales and forecast variables are highly correlated.\r\n",
        "\r\n",
        "This means that, when doing our prediction, we don't have to use every attributes that correlate highly with each other. Using fewer attributes may speed up training time.\r\n",
        "\r\n",
        "---"
      ]
    },
    {
      "cell_type": "markdown",
      "metadata": {
        "id": "DR6JfVlEElDc"
      },
      "source": [
        "## Tableau EDA\r\n",
        "\r\n",
        "We can now perform more complex data analysis on Tableau. The first chart we will look at is **Real sales vs forecast**:\r\n",
        "\r\n",
        "![](https://drive.google.com/uc?export=view&id=1ssA2Qwh7XkgwkKPI5bjAfJAAkbpfSH0M)\r\n",
        "\r\n",
        "We see that the prediction in the original dataset correlates highly with the real sales. We can investigate further by looking at the \"yes\" and \"no\" backorder products separately.\r\n",
        "\r\n",
        "![](https://drive.google.com/uc?export=view&id=1YSdv74N5oC-8aDxpzRJ1AcJjlBlCY56a)\r\n",
        "\r\n",
        "For the \"no\" backorder products, the forecasted sales and the actual sales are the same. But for the \"yes\" backorder products, there is a disparity between the forecasted sales and the actual sales. \r\n",
        "\r\n",
        "**The actual sales are higher than the forecasted sales for backorder products.**\r\n",
        "\r\n",
        "---\r\n"
      ]
    },
    {
      "cell_type": "markdown",
      "metadata": {
        "id": "46ko9s7hZntx"
      },
      "source": [
        "# **Data Pre-processing**\r\n",
        "Data pre-processing is a data mining technique that involves transforming raw data into an understandable format. Real-world data is often inconsistent and incomplete, and we need to transform it into a format that our machine learning models can understand.\r\n",
        "\r\n",
        "First of all, we need to get rid of the null value sas there are many null values in the dataset. We also remove the 'SKU' column as it is the ID of the product and are not meaningful in any way.\r\n",
        "\r\n",
        "After that, we can compare the proportion of \"Yes\" and \"No\" backorder products:"
      ]
    },
    {
      "cell_type": "code",
      "metadata": {
        "colab": {
          "base_uri": "https://localhost:8080/"
        },
        "id": "zbSYsVM4Z9Nw",
        "outputId": "b6b8bd83-9433-47bf-bb05-0dc7cf788be9"
      },
      "source": [
        "from sklearn.preprocessing import normalize\r\n",
        "from imblearn.over_sampling import SMOTE\r\n",
        "\r\n",
        "# Replace NaN values in lead_time\r\n",
        "merged_df.lead_time = merged_df.lead_time.fillna(merged_df.lead_time.median())\r\n",
        "\r\n",
        "# Change the -99 placeholder to NA for perf_6_month_avg and perf_12_month_avg\r\n",
        "merged_df['perf_6_month_avg'] = merged_df['perf_6_month_avg'].replace(-99, np.NaN)\r\n",
        "merged_df['perf_12_month_avg'] = merged_df['perf_12_month_avg'].replace(-99, np.NaN)\r\n",
        "\r\n",
        "# Drop rows with null values \r\n",
        "merged_df = merged_df.dropna()\r\n",
        "\r\n",
        "# Remove the sku column\r\n",
        "merged_df = merged_df.drop([\"sku\"], axis=1)\r\n",
        "\r\n",
        "# Class proportion for target variable\r\n",
        "print(\"\\nProportion of Backorder before SMOTE:\\n\", merged_df['went_on_backorder'].value_counts(normalize=True))"
      ],
      "execution_count": null,
      "outputs": [
        {
          "output_type": "stream",
          "text": [
            "/usr/local/lib/python3.6/dist-packages/sklearn/externals/six.py:31: FutureWarning: The module is deprecated in version 0.21 and will be removed in version 0.23 since we've dropped support for Python 2.7. Please rely on the official version of six (https://pypi.org/project/six/).\n",
            "  \"(https://pypi.org/project/six/).\", FutureWarning)\n",
            "/usr/local/lib/python3.6/dist-packages/sklearn/utils/deprecation.py:144: FutureWarning: The sklearn.neighbors.base module is  deprecated in version 0.22 and will be removed in version 0.24. The corresponding classes / functions should instead be imported from sklearn.neighbors. Anything that cannot be imported from sklearn.neighbors is now part of the private API.\n",
            "  warnings.warn(message, FutureWarning)\n"
          ],
          "name": "stderr"
        },
        {
          "output_type": "stream",
          "text": [
            "\n",
            "Proportion of Backorder before SMOTE:\n",
            " No     0.992462\n",
            "Yes    0.007538\n",
            "Name: went_on_backorder, dtype: float64\n"
          ],
          "name": "stdout"
        }
      ]
    },
    {
      "cell_type": "markdown",
      "metadata": {
        "id": "frG5185Lav1I"
      },
      "source": [
        "And find out that 98.13% of products are \"Yes\" backorder and only 1.87% are \"No\" backorder.\r\n",
        "\r\n",
        "---\r\n",
        "\r\n",
        "Next, we want to transform the 'Yes' and 'No' values to '1' and '0', as some models are not able to work with non-numerical values. Also, we want to remove the records where forecast and sales are 0, because these products do not contribute to our prediction."
      ]
    },
    {
      "cell_type": "code",
      "metadata": {
        "id": "uaOmA5prOx3e"
      },
      "source": [
        "# Convert from non-numerical to numerical\r\n",
        "cat_params = ['potential_issue', 'deck_risk', 'oe_constraint', 'ppap_risk',\r\n",
        "               'stop_auto_buy', 'rev_stop', 'went_on_backorder']\r\n",
        "\r\n",
        "for param in cat_params:\r\n",
        "  merged_df[param] = (merged_df[param] == 'Yes').astype(int)\r\n",
        "\r\n",
        "# Remove records where forecast and sales are 0 \r\n",
        "attributes = ['forecast_3_month', 'forecast_6_month', 'forecast_9_month',\r\n",
        "              'sales_1_month', 'sales_3_month', 'sales_6_month', 'sales_9_month']\r\n",
        "              \r\n",
        "for attr in attributes:\r\n",
        "  merged_df = merged_df.drop(merged_df[merged_df[attr] == 0].index)"
      ],
      "execution_count": null,
      "outputs": []
    },
    {
      "cell_type": "markdown",
      "metadata": {
        "id": "RT1GEuP_axOP"
      },
      "source": [
        "As the data is still vastly unbalanced, we need to balance it somehow. We can do this by applying the SMOTE technique. After that, we can save it to a csv file for future use."
      ]
    },
    {
      "cell_type": "code",
      "metadata": {
        "colab": {
          "base_uri": "https://localhost:8080/"
        },
        "id": "WsJVA1SuV_RW",
        "outputId": "705b7f83-ab62-4ecd-b746-a8c4b3c62886"
      },
      "source": [
        "# SMOTE teachnique to balance dataset\r\n",
        "X = merged_df.drop(['went_on_backorder'], axis = 1)\r\n",
        "y = merged_df['went_on_backorder']\r\n",
        "oversample = SMOTE()\r\n",
        "X, y = oversample.fit_resample(X, y)\r\n",
        "df = pd.concat([pd.DataFrame(X), pd.DataFrame(y)], axis=1)\r\n",
        "\r\n",
        "# Rename labels in final dataset\r\n",
        "labels = merged_df.columns\r\n",
        "df.columns = labels\r\n",
        "\r\n",
        "# Save to csv\r\n",
        "df.to_csv(r'data.csv')\r\n",
        "\r\n",
        "# Class proportion before SMOTE\r\n",
        "print(\"\\nProportion of Backorder before SMOTE:\\n\", merged_df['went_on_backorder'].value_counts(normalize=True))\r\n",
        "\r\n",
        "# Class proportion after SMOTE\r\n",
        "print(\"\\nProportion of Backorder after SMOTE:'n\", df['went_on_backorder'].value_counts(normalize=True))"
      ],
      "execution_count": null,
      "outputs": [
        {
          "output_type": "stream",
          "text": [
            "/usr/local/lib/python3.6/dist-packages/sklearn/utils/deprecation.py:87: FutureWarning: Function safe_indexing is deprecated; safe_indexing is deprecated in version 0.22 and will be removed in version 0.24.\n",
            "  warnings.warn(msg, category=FutureWarning)\n"
          ],
          "name": "stderr"
        },
        {
          "output_type": "stream",
          "text": [
            "\n",
            "Proportion of Backorder before SMOTE:\n",
            " 0    0.981289\n",
            "1    0.018711\n",
            "Name: went_on_backorder, dtype: float64\n",
            "\n",
            "Proportion of Backorder after SMOTE:'n 1    0.5\n",
            "0    0.5\n",
            "Name: went_on_backorder, dtype: float64\n"
          ],
          "name": "stdout"
        }
      ]
    },
    {
      "cell_type": "markdown",
      "metadata": {
        "id": "6bypNj39ZuOS"
      },
      "source": [
        "---\r\n",
        "# **Descriptive Data Mining**\r\n",
        "\r\n",
        "Descriptive data mining is applying data mining techniques to determine the similarities in the data and to find existing patterns.\r\n",
        "\r\n",
        "We will apply 2 descriptive data mining techniques here:\r\n",
        "1.   A Priori Association Rules\r\n",
        "2.   K-Means Clustering\r\n",
        "\r\n",
        "---"
      ]
    },
    {
      "cell_type": "markdown",
      "metadata": {
        "id": "gq4RJjGFGZ7s"
      },
      "source": [
        "## Association Rules\r\n",
        "Association Rules calculate how frequent the items appear together\r\n",
        "\r\n",
        "---\r\n",
        "\r\n",
        "### RapidMiner\r\n",
        "We first run this on RapidMiner. The data is first discretized and transformed to Binomial before we process it. It should be noted that we are running FPGrowth in RapidMiner because it does not have A Priori. We use A Priori Association Rules on Colab because FPgrowth is unavailable here. However, they are very similar algorithms. The figure below shows the operators used in RapidMiner:\r\n",
        "\r\n",
        "![](https://drive.google.com/uc?export=view&id=1TzFOGjPmjdhpcyIp5m4Wu2CZVgmtbQiy)\r\n",
        "\r\n",
        "And the two figures below shows the output:\r\n",
        "\r\n",
        "![](https://drive.google.com/uc?export=view&id=1ZCb2ceXNirSBVqiW_AqT4beIq0WpxT3w)\r\n",
        "\r\n",
        "![](https://drive.google.com/uc?export=view&id=1_EZf5p8_SjrZYzHy3qVvoLeX3y4J2_mM)\r\n",
        "\r\n",
        "We can conclude from the results that, when\r\n",
        "*   oe_constraint\r\n",
        "*   potential_issue\r\n",
        "*   desk_risk\r\n",
        "\r\n",
        "is **False**, then rev_stop will most probably also be **False**\r\n",
        "\r\n",
        "Next, we export the data that we have processed here into a CSV that we can use on Colab.\r\n",
        "\r\n",
        "---\r\n",
        "\r\n",
        "We can now use the data that is exported and run A Priori Association Rules on Colab. "
      ]
    },
    {
      "cell_type": "code",
      "metadata": {
        "colab": {
          "base_uri": "https://localhost:8080/"
        },
        "id": "Us37duhHaFvP",
        "outputId": "f759ccd7-b0f6-45aa-c22a-218927b23a4b"
      },
      "source": [
        "!pip install -q mlxtend\r\n",
        "from mlxtend.frequent_patterns import apriori, association_rules\r\n",
        "import pandas as pd\r\n",
        "\r\n",
        "# Read data\r\n",
        "disc_df = pd.read_csv(\"drive/MyDrive/data_mining_portfolio/discretized.csv\")\r\n",
        "\r\n",
        "# Analyze frequent itemsets and write to csv\r\n",
        "ap = apriori(disc_df, min_support=0.95, use_colnames=True)\r\n",
        "print(\"\\nFrequent Itemsets:\\n\", ap)\r\n",
        "ap.to_csv('itemsets.csv')\r\n",
        "\r\n",
        "# Create association rules and write to csv\r\n",
        "rules = association_rules(ap, metric=\"confidence\", min_threshold=0.8)\r\n",
        "print(\"\\nAssociation Rules:\\n\", rules)\r\n",
        "rules.to_csv('rules.csv')"
      ],
      "execution_count": null,
      "outputs": [
        {
          "output_type": "stream",
          "text": [
            "\n",
            "Frequent Itemsets:\n",
            "      support                                           itemsets\n",
            "0   0.998698            (potential_issue = range1 [-? - 0.500])\n",
            "1   0.950488                  (deck_risk = range1 [-? - 0.500])\n",
            "2   0.999755              (oe_constraint = range1 [-? - 0.500])\n",
            "3   0.960804                   (stop_auto_buy = range2 [0 - ?])\n",
            "4   1.000000                       (rev_stop = range1 [-? - 0])\n",
            "5   0.998453  (oe_constraint = range1 [-? - 0.500], potentia...\n",
            "6   0.959502  (stop_auto_buy = range2 [0 - ?], potential_iss...\n",
            "7   0.998698  (rev_stop = range1 [-? - 0], potential_issue =...\n",
            "8   0.950243  (oe_constraint = range1 [-? - 0.500], deck_ris...\n",
            "9   0.950488  (rev_stop = range1 [-? - 0], deck_risk = range...\n",
            "10  0.960559  (oe_constraint = range1 [-? - 0.500], stop_aut...\n",
            "11  0.999755  (oe_constraint = range1 [-? - 0.500], rev_stop...\n",
            "12  0.960804  (stop_auto_buy = range2 [0 - ?], rev_stop = ra...\n",
            "13  0.959257  (oe_constraint = range1 [-? - 0.500], stop_aut...\n",
            "14  0.998453  (oe_constraint = range1 [-? - 0.500], rev_stop...\n",
            "15  0.959502  (stop_auto_buy = range2 [0 - ?], rev_stop = ra...\n",
            "16  0.950243  (oe_constraint = range1 [-? - 0.500], rev_stop...\n",
            "17  0.960559  (stop_auto_buy = range2 [0 - ?], oe_constraint...\n",
            "18  0.959257  (stop_auto_buy = range2 [0 - ?], oe_constraint...\n",
            "\n",
            "Association Rules:\n",
            "                                           antecedents  ... conviction\n",
            "0               (oe_constraint = range1 [-? - 0.500])  ...   0.999755\n",
            "1             (potential_issue = range1 [-? - 0.500])  ...   0.998698\n",
            "2                    (stop_auto_buy = range2 [0 - ?])  ...   0.960804\n",
            "3             (potential_issue = range1 [-? - 0.500])  ...   0.998698\n",
            "4                        (rev_stop = range1 [-? - 0])  ...   1.000000\n",
            "5             (potential_issue = range1 [-? - 0.500])  ...        inf\n",
            "6               (oe_constraint = range1 [-? - 0.500])  ...   0.999755\n",
            "7                   (deck_risk = range1 [-? - 0.500])  ...   0.950488\n",
            "8                        (rev_stop = range1 [-? - 0])  ...   1.000000\n",
            "9                   (deck_risk = range1 [-? - 0.500])  ...        inf\n",
            "10              (oe_constraint = range1 [-? - 0.500])  ...   0.999755\n",
            "11                   (stop_auto_buy = range2 [0 - ?])  ...   0.960804\n",
            "12              (oe_constraint = range1 [-? - 0.500])  ...        inf\n",
            "13                       (rev_stop = range1 [-? - 0])  ...   1.000000\n",
            "14                   (stop_auto_buy = range2 [0 - ?])  ...        inf\n",
            "15                       (rev_stop = range1 [-? - 0])  ...   1.000000\n",
            "16  (oe_constraint = range1 [-? - 0.500], stop_aut...  ...   0.960559\n",
            "17  (oe_constraint = range1 [-? - 0.500], potentia...  ...   0.998453\n",
            "18  (stop_auto_buy = range2 [0 - ?], potential_iss...  ...   0.959502\n",
            "19              (oe_constraint = range1 [-? - 0.500])  ...   0.999755\n",
            "20                   (stop_auto_buy = range2 [0 - ?])  ...   0.960804\n",
            "21            (potential_issue = range1 [-? - 0.500])  ...   0.998698\n",
            "22  (oe_constraint = range1 [-? - 0.500], rev_stop...  ...   0.999755\n",
            "23  (oe_constraint = range1 [-? - 0.500], potentia...  ...        inf\n",
            "24  (rev_stop = range1 [-? - 0], potential_issue =...  ...   0.998698\n",
            "25              (oe_constraint = range1 [-? - 0.500])  ...   0.999755\n",
            "26                       (rev_stop = range1 [-? - 0])  ...   1.000000\n",
            "27            (potential_issue = range1 [-? - 0.500])  ...   0.998698\n",
            "28  (stop_auto_buy = range2 [0 - ?], rev_stop = ra...  ...   0.960804\n",
            "29  (stop_auto_buy = range2 [0 - ?], potential_iss...  ...        inf\n",
            "30  (rev_stop = range1 [-? - 0], potential_issue =...  ...   0.998698\n",
            "31                   (stop_auto_buy = range2 [0 - ?])  ...   0.960804\n",
            "32                       (rev_stop = range1 [-? - 0])  ...   1.000000\n",
            "33            (potential_issue = range1 [-? - 0.500])  ...   0.998698\n",
            "34  (oe_constraint = range1 [-? - 0.500], rev_stop...  ...   0.999755\n",
            "35  (oe_constraint = range1 [-? - 0.500], deck_ris...  ...        inf\n",
            "36  (rev_stop = range1 [-? - 0], deck_risk = range...  ...   0.950488\n",
            "37              (oe_constraint = range1 [-? - 0.500])  ...   0.999755\n",
            "38                       (rev_stop = range1 [-? - 0])  ...   1.000000\n",
            "39                  (deck_risk = range1 [-? - 0.500])  ...   0.950488\n",
            "40  (oe_constraint = range1 [-? - 0.500], stop_aut...  ...        inf\n",
            "41  (stop_auto_buy = range2 [0 - ?], rev_stop = ra...  ...   0.960804\n",
            "42  (oe_constraint = range1 [-? - 0.500], rev_stop...  ...   0.999755\n",
            "43                   (stop_auto_buy = range2 [0 - ?])  ...   0.960804\n",
            "44              (oe_constraint = range1 [-? - 0.500])  ...   0.999755\n",
            "45                       (rev_stop = range1 [-? - 0])  ...   1.000000\n",
            "46  (oe_constraint = range1 [-? - 0.500], stop_aut...  ...   0.960559\n",
            "47  (oe_constraint = range1 [-? - 0.500], stop_aut...  ...        inf\n",
            "48  (stop_auto_buy = range2 [0 - ?], potential_iss...  ...   0.959502\n",
            "49  (oe_constraint = range1 [-? - 0.500], rev_stop...  ...   0.998453\n",
            "50  (oe_constraint = range1 [-? - 0.500], stop_aut...  ...   0.960559\n",
            "51  (stop_auto_buy = range2 [0 - ?], rev_stop = ra...  ...   0.960804\n",
            "52  (stop_auto_buy = range2 [0 - ?], potential_iss...  ...   0.959502\n",
            "53  (oe_constraint = range1 [-? - 0.500], rev_stop...  ...   0.999755\n",
            "54  (oe_constraint = range1 [-? - 0.500], potentia...  ...   0.998453\n",
            "55  (rev_stop = range1 [-? - 0], potential_issue =...  ...   0.998698\n",
            "56                   (stop_auto_buy = range2 [0 - ?])  ...   0.960804\n",
            "57              (oe_constraint = range1 [-? - 0.500])  ...   0.999755\n",
            "58                       (rev_stop = range1 [-? - 0])  ...   1.000000\n",
            "59            (potential_issue = range1 [-? - 0.500])  ...   0.998698\n",
            "\n",
            "[60 rows x 9 columns]\n"
          ],
          "name": "stdout"
        }
      ]
    },
    {
      "cell_type": "markdown",
      "metadata": {
        "id": "NjZZGKSbsJgO"
      },
      "source": [
        "We managed to obtain very similar results, whereby when\r\n",
        "\r\n",
        "*   oe_constraint\r\n",
        "*   potential_issue\r\n",
        "*   desk_risk\r\n",
        "\r\n",
        "is **False**, the rev_stop is also **False**.\r\n",
        "\r\n",
        "---"
      ]
    },
    {
      "cell_type": "markdown",
      "metadata": {
        "id": "9k4PCIG5aBUv"
      },
      "source": [
        "## Clustering\r\n",
        "\r\n",
        "Clustering is an unsupervised machine learning algorithm that divide the population or data points into a number of groups such that data points in the same groups are more similar to other data points in the same group and dissimilar to the data points in other groups. It is basically a collection of objects on the basis of similarity and dissimilarity between them.\r\n",
        "\r\n",
        "The clustering algorithm we use is K-Means as it is one of the fastest clustering algorithms. We will use the Davies-Bouldin Index to measure its performance. A high Davies-Bouldin score means that the clusters are very similar to each other, whereas a low Davies-Bouldin score means that the clusters are well separated from each other. **In general, we want a low score.**\r\n",
        "\r\n",
        "---\r\n",
        "\r\n",
        "## RapidMiner\r\n",
        "We first run it on RapidMiner. We are only using the \"Yes\" backorder products as using the \"No\" backorder products will turn the task into a classification task. The task is repeated 5 times for 5 different number of clusters. Figure below shows the operators used in RapidMiner:\r\n",
        "![](https://drive.google.com/uc?export=view&id=1G67TbF00e4_7DxKVIBIeGwqBAOS7CN83)"
      ]
    },
    {
      "cell_type": "markdown",
      "metadata": {
        "id": "iGXmiP8FICCD"
      },
      "source": [
        "Next, we can run it on Python, starting with 2 clusters."
      ]
    },
    {
      "cell_type": "code",
      "metadata": {
        "colab": {
          "base_uri": "https://localhost:8080/"
        },
        "id": "EHzg5C8DZ-Po",
        "outputId": "721518fd-8c6c-44b8-937c-b0a9fa7b1708"
      },
      "source": [
        "from sklearn.cluster import KMeans\r\n",
        "from sklearn.metrics import davies_bouldin_score\r\n",
        "\r\n",
        "# Select only backorder data\r\n",
        "bo_df = df[df['went_on_backorder'] == 1]\r\n",
        "X = bo_df.drop(columns='went_on_backorder', axis=0)\r\n",
        "\r\n",
        "# Clustering\r\n",
        "KMmodel = KMeans(n_clusters=2)\r\n",
        "KMpred = KMmodel.fit_predict(X)\r\n",
        "KMlabels = KMmodel.labels_\r\n",
        "KMbi = davies_bouldin_score(X, KMlabels)\r\n",
        "print(\"K-Means with 2 clusters\")\r\n",
        "print(\"Davies-Bouldin Index:\", KMbi)"
      ],
      "execution_count": null,
      "outputs": [
        {
          "output_type": "stream",
          "text": [
            "K-Means with 2 clusters\n",
            "Davies-Bouldin Index: 0.4324246018578214\n"
          ],
          "name": "stdout"
        }
      ]
    },
    {
      "cell_type": "markdown",
      "metadata": {
        "id": "iT9zilXAazwv"
      },
      "source": [
        "We obtained a Davies-Bouldin score of 0.432.\r\n",
        "\r\n",
        "---\r\n",
        "\r\n",
        "Now we try with 4 clusters."
      ]
    },
    {
      "cell_type": "code",
      "metadata": {
        "colab": {
          "base_uri": "https://localhost:8080/"
        },
        "id": "V9cSbp1JP8nw",
        "outputId": "707e7dec-7970-4770-b7b5-81891bd4d155"
      },
      "source": [
        "# Clustering\r\n",
        "KMmodel = KMeans(n_clusters=4)\r\n",
        "KMpred = KMmodel.fit_predict(X)\r\n",
        "KMlabels = KMmodel.labels_\r\n",
        "KMbi = davies_bouldin_score(X, KMlabels)\r\n",
        "print(\"K-Means with 4 clusters\")\r\n",
        "print(\"Davies-Bouldin Index:\", KMbi)"
      ],
      "execution_count": null,
      "outputs": [
        {
          "output_type": "stream",
          "text": [
            "K-Means with 4 clusters\n",
            "Davies-Bouldin Index: 0.48389029593856103\n"
          ],
          "name": "stdout"
        }
      ]
    },
    {
      "cell_type": "markdown",
      "metadata": {
        "id": "RkKyWetYa093"
      },
      "source": [
        "And obtained a score of 0.484\r\n",
        "\r\n",
        "---\r\n",
        "\r\n",
        "Finally, we test with 3 clusters"
      ]
    },
    {
      "cell_type": "code",
      "metadata": {
        "colab": {
          "base_uri": "https://localhost:8080/"
        },
        "id": "ILw-K8NUP-LA",
        "outputId": "abde037d-b6a0-426b-a5bf-10abfa2c60e9"
      },
      "source": [
        "# Clustering\r\n",
        "KMmodel = KMeans(n_clusters=3)\r\n",
        "KMpred = KMmodel.fit_predict(X)\r\n",
        "KMlabels = KMmodel.labels_\r\n",
        "KMbi = davies_bouldin_score(X, KMlabels)\r\n",
        "print(\"K-Means with 3 clusters\")\r\n",
        "print(\"Davies-Bouldin Index:\", KMbi)"
      ],
      "execution_count": null,
      "outputs": [
        {
          "output_type": "stream",
          "text": [
            "K-Means with 3 clusters\n",
            "Davies-Bouldin Index: 0.31455921648427315\n"
          ],
          "name": "stdout"
        }
      ]
    },
    {
      "cell_type": "markdown",
      "metadata": {
        "id": "lRZ1B12ZHwYj"
      },
      "source": [
        "And obtained a score of 0.315. This is the best result we have obtained so we will use this to cluster our data.\r\n",
        "\r\n",
        "---\r\n",
        "\r\n",
        "The figure below shows the Davies-Bouldin Index for different clusters on RapidMiner and Colab. As we can see, the score on both platforms converged at k=3, which is a good sign that k=3 is the optimal number of clusters.\r\n",
        "![](https://drive.google.com/uc?export=view&id=16JS_IQezVKCyqOCI3JMJuwLuLIsuAGFR)\r\n",
        "\r\n",
        "---\r\n",
        "\r\n",
        "Finally, using k=3, we can analyse the properties of the different clusters."
      ]
    },
    {
      "cell_type": "code",
      "metadata": {
        "colab": {
          "base_uri": "https://localhost:8080/",
          "height": 751
        },
        "id": "SB_DHEp0PEqc",
        "outputId": "d83d8463-a415-432b-8105-95294cfbd6a9"
      },
      "source": [
        "# Add cluster column\r\n",
        "KM = X.copy()\r\n",
        "KM['cluster'] = pd.Series(KMpred, index=KM.index)\r\n",
        "\r\n",
        "# Separate into different clusters\r\n",
        "cl0 = KM.loc[KM['cluster'] == 0]\r\n",
        "cl1 = KM.loc[KM['cluster'] == 1]\r\n",
        "cl2 = KM.loc[KM['cluster'] == 2]\r\n",
        "\r\n",
        "# Find out number of instances in each cluster\r\n",
        "print(\"Cluster_0: \", cl0.shape)\r\n",
        "print(\"Cluster_1: \", cl1.shape)\r\n",
        "print(\"Cluster_2: \", cl2.shape)\r\n",
        "\r\n",
        "# Aggregate the different clusters\r\n",
        "cl0_mean = cl0.agg('mean').drop('cluster')\r\n",
        "cl1_mean = cl1.agg('mean').drop('cluster')\r\n",
        "cl2_mean = cl2.agg('mean').drop('cluster')\r\n",
        "\r\n",
        "pd.concat([cl0_mean, cl1_mean, cl2_mean], axis=1)"
      ],
      "execution_count": null,
      "outputs": [
        {
          "output_type": "stream",
          "text": [
            "Cluster_0:  (346361, 22)\n",
            "Cluster_1:  (828, 22)\n",
            "Cluster_2:  (40, 22)\n"
          ],
          "name": "stdout"
        },
        {
          "output_type": "execute_result",
          "data": {
            "text/html": [
              "<div>\n",
              "<style scoped>\n",
              "    .dataframe tbody tr th:only-of-type {\n",
              "        vertical-align: middle;\n",
              "    }\n",
              "\n",
              "    .dataframe tbody tr th {\n",
              "        vertical-align: top;\n",
              "    }\n",
              "\n",
              "    .dataframe thead th {\n",
              "        text-align: right;\n",
              "    }\n",
              "</style>\n",
              "<table border=\"1\" class=\"dataframe\">\n",
              "  <thead>\n",
              "    <tr style=\"text-align: right;\">\n",
              "      <th></th>\n",
              "      <th>0</th>\n",
              "      <th>1</th>\n",
              "      <th>2</th>\n",
              "    </tr>\n",
              "  </thead>\n",
              "  <tbody>\n",
              "    <tr>\n",
              "      <th>national_inv</th>\n",
              "      <td>9.537295</td>\n",
              "      <td>5496.660665</td>\n",
              "      <td>-160.352666</td>\n",
              "    </tr>\n",
              "    <tr>\n",
              "      <th>lead_time</th>\n",
              "      <td>6.726865</td>\n",
              "      <td>5.467231</td>\n",
              "      <td>2.640487</td>\n",
              "    </tr>\n",
              "    <tr>\n",
              "      <th>in_transit_qty</th>\n",
              "      <td>4.172067</td>\n",
              "      <td>268.263090</td>\n",
              "      <td>3.942969</td>\n",
              "    </tr>\n",
              "    <tr>\n",
              "      <th>forecast_3_month</th>\n",
              "      <td>137.624462</td>\n",
              "      <td>11495.867719</td>\n",
              "      <td>66753.853709</td>\n",
              "    </tr>\n",
              "    <tr>\n",
              "      <th>forecast_6_month</th>\n",
              "      <td>202.867500</td>\n",
              "      <td>22109.278648</td>\n",
              "      <td>122095.135061</td>\n",
              "    </tr>\n",
              "    <tr>\n",
              "      <th>forecast_9_month</th>\n",
              "      <td>268.933675</td>\n",
              "      <td>32379.571690</td>\n",
              "      <td>149564.956099</td>\n",
              "    </tr>\n",
              "    <tr>\n",
              "      <th>sales_1_month</th>\n",
              "      <td>32.275657</td>\n",
              "      <td>2451.704266</td>\n",
              "      <td>789.577844</td>\n",
              "    </tr>\n",
              "    <tr>\n",
              "      <th>sales_3_month</th>\n",
              "      <td>87.078676</td>\n",
              "      <td>9300.531564</td>\n",
              "      <td>2737.897364</td>\n",
              "    </tr>\n",
              "    <tr>\n",
              "      <th>sales_6_month</th>\n",
              "      <td>151.454007</td>\n",
              "      <td>17318.942791</td>\n",
              "      <td>5208.318507</td>\n",
              "    </tr>\n",
              "    <tr>\n",
              "      <th>sales_9_month</th>\n",
              "      <td>219.768862</td>\n",
              "      <td>24294.277592</td>\n",
              "      <td>5732.641159</td>\n",
              "    </tr>\n",
              "    <tr>\n",
              "      <th>min_bank</th>\n",
              "      <td>24.826702</td>\n",
              "      <td>2534.633231</td>\n",
              "      <td>755.865461</td>\n",
              "    </tr>\n",
              "    <tr>\n",
              "      <th>potential_issue</th>\n",
              "      <td>0.005686</td>\n",
              "      <td>0.118768</td>\n",
              "      <td>0.116015</td>\n",
              "    </tr>\n",
              "    <tr>\n",
              "      <th>pieces_past_due</th>\n",
              "      <td>3.835824</td>\n",
              "      <td>465.845689</td>\n",
              "      <td>63.803605</td>\n",
              "    </tr>\n",
              "    <tr>\n",
              "      <th>perf_6_month_avg</th>\n",
              "      <td>0.712468</td>\n",
              "      <td>0.683012</td>\n",
              "      <td>0.876535</td>\n",
              "    </tr>\n",
              "    <tr>\n",
              "      <th>perf_12_month_avg</th>\n",
              "      <td>0.714702</td>\n",
              "      <td>0.729319</td>\n",
              "      <td>0.856673</td>\n",
              "    </tr>\n",
              "    <tr>\n",
              "      <th>local_bo_qty</th>\n",
              "      <td>4.291423</td>\n",
              "      <td>709.182030</td>\n",
              "      <td>287.713752</td>\n",
              "    </tr>\n",
              "    <tr>\n",
              "      <th>deck_risk</th>\n",
              "      <td>0.087847</td>\n",
              "      <td>0.534198</td>\n",
              "      <td>1.000000</td>\n",
              "    </tr>\n",
              "    <tr>\n",
              "      <th>oe_constraint</th>\n",
              "      <td>0.000886</td>\n",
              "      <td>0.000000</td>\n",
              "      <td>0.000000</td>\n",
              "    </tr>\n",
              "    <tr>\n",
              "      <th>ppap_risk</th>\n",
              "      <td>0.125307</td>\n",
              "      <td>0.308994</td>\n",
              "      <td>0.893252</td>\n",
              "    </tr>\n",
              "    <tr>\n",
              "      <th>stop_auto_buy</th>\n",
              "      <td>0.975329</td>\n",
              "      <td>1.000000</td>\n",
              "      <td>1.000000</td>\n",
              "    </tr>\n",
              "    <tr>\n",
              "      <th>rev_stop</th>\n",
              "      <td>0.000000</td>\n",
              "      <td>0.000000</td>\n",
              "      <td>0.000000</td>\n",
              "    </tr>\n",
              "  </tbody>\n",
              "</table>\n",
              "</div>"
            ],
            "text/plain": [
              "                            0             1              2\n",
              "national_inv         9.537295   5496.660665    -160.352666\n",
              "lead_time            6.726865      5.467231       2.640487\n",
              "in_transit_qty       4.172067    268.263090       3.942969\n",
              "forecast_3_month   137.624462  11495.867719   66753.853709\n",
              "forecast_6_month   202.867500  22109.278648  122095.135061\n",
              "forecast_9_month   268.933675  32379.571690  149564.956099\n",
              "sales_1_month       32.275657   2451.704266     789.577844\n",
              "sales_3_month       87.078676   9300.531564    2737.897364\n",
              "sales_6_month      151.454007  17318.942791    5208.318507\n",
              "sales_9_month      219.768862  24294.277592    5732.641159\n",
              "min_bank            24.826702   2534.633231     755.865461\n",
              "potential_issue      0.005686      0.118768       0.116015\n",
              "pieces_past_due      3.835824    465.845689      63.803605\n",
              "perf_6_month_avg     0.712468      0.683012       0.876535\n",
              "perf_12_month_avg    0.714702      0.729319       0.856673\n",
              "local_bo_qty         4.291423    709.182030     287.713752\n",
              "deck_risk            0.087847      0.534198       1.000000\n",
              "oe_constraint        0.000886      0.000000       0.000000\n",
              "ppap_risk            0.125307      0.308994       0.893252\n",
              "stop_auto_buy        0.975329      1.000000       1.000000\n",
              "rev_stop             0.000000      0.000000       0.000000"
            ]
          },
          "metadata": {
            "tags": []
          },
          "execution_count": 12
        }
      ]
    },
    {
      "cell_type": "markdown",
      "metadata": {
        "id": "AXqslIqHsoro"
      },
      "source": [
        "We find out that:\r\n",
        "\r\n",
        "*   Most items are in the Cluster_0\r\n",
        "*   Cluster_1 and Cluster_2 are outliers\r\n",
        "*   Cluster_0 has a low inventory at an average of 9.72, and a higher sales at 32.59.\r\n",
        "*   Cluster_1 has a high inventory at 6501.40 and a lower sales at 2487.\r\n",
        "*   Cluster_2 has a negative inventory at -380.10 and a positive sales at 861.34.\r\n",
        "\r\n",
        "**Cluster 0 and Cluster 2 confirms our results earlier that, a higher sales than inventory will result in a backorder.**\r\n",
        "On the other hand, Cluster_1 has a lower sales than inventory, however there are only small a small quantity of items that are in this cluster. Cluster_1 is the outlier.\r\n",
        "\r\n",
        "---\r\n"
      ]
    },
    {
      "cell_type": "markdown",
      "metadata": {
        "id": "P4ysD3d0ZuUi"
      },
      "source": [
        "# **Predictive Data Mining**\r\n",
        "\r\n",
        "Predictive data mining allows us to predict events that has not happened yet. This type of data mining is done for the purpose of using business intelligence or other data to forecast or predict trends. This type of data mining can help business leaders make better decisions and can add value to the efforts of the analytics team.\r\n",
        "\r\n",
        "For this project, we are comparing Random Forest and Adaboost. Random forests are an ensemble learning method for classification. It works by constructing a multitude of Decision Trees at training time and outputting the class that is the mode of the classes.\r\n",
        "\r\n",
        "Adaboost is also an ensemble learning method, but can be used in conjunction with many other types of learning algorithms instead of just Decision Tree.\r\n",
        "\r\n",
        "Note that we do not use the forecast because they are predicted values, and we do not use min_bank because it is a 'recommended' value. We only want actual numbers for our prediction.\r\n",
        "\r\n",
        "---\r\n",
        "\r\n",
        "### RapidMiner\r\n",
        "First, we run this on RapidMiner. Using the default max_depth=10 for both Random Forest and AdaBoost, we calculate the performance on different train-test ratios, 80:20 and 70:30. The figure below shows our operators on RapidMiner:\r\n",
        "\r\n",
        "![](https://drive.google.com/uc?export=view&id=19ekMULjfMtDli8MApstGBsRMt079vgvK)\r\n",
        "\r\n",
        "The figure below shows the tabulated results:\r\n",
        "\r\n",
        "![](https://drive.google.com/uc?export=view&id=1sl5wHuQXs6UAgKh_It9BGlOnrtRYKFdl)\r\n",
        "\r\n",
        "We can see that, overall, Random Forest outperformed AdaBoost by as much as 10% in terms of precision.\r\n",
        "\r\n",
        "---\r\n",
        "\r\n"
      ]
    },
    {
      "cell_type": "markdown",
      "metadata": {
        "id": "_q4rx_xpxGdO"
      },
      "source": [
        "## 30% Test Ratio\r\n",
        "\r\n",
        "We can now test in on Colab. Starting with 30% testing ratio and a max_depth=1 on Random Forest,"
      ]
    },
    {
      "cell_type": "code",
      "metadata": {
        "colab": {
          "base_uri": "https://localhost:8080/"
        },
        "id": "x_CIPEvUaLTY",
        "outputId": "2dc50fcd-a1f0-4d08-8801-3a7654fb8cd0"
      },
      "source": [
        "from sklearn.model_selection import train_test_split\r\n",
        "from sklearn.ensemble import RandomForestClassifier, AdaBoostClassifier\r\n",
        "from sklearn.metrics import precision_score, recall_score, accuracy_score\r\n",
        "from joblib import dump\r\n",
        "from time import perf_counter\r\n",
        "\r\n",
        "# selecting features that we want\r\n",
        "X = df.drop(columns=['went_on_backorder', 'forecast_3_month', 'forecast_6_month', 'forecast_9_month', 'perf_12_month_avg', 'sales_1_month', 'sales_3_month', 'sales_9_month', 'min_bank'], axis=0)\r\n",
        "Y = df['went_on_backorder']\r\n",
        "\r\n",
        "# test size\r\n",
        "test_size = 0.3\r\n",
        "\r\n",
        "# train test split\r\n",
        "X_train, X_test, Y_train, Y_test = train_test_split(X, Y, test_size=test_size, random_state=42)\r\n",
        "print(\"Train to test ratio:\", 1-test_size, test_size)\r\n",
        "\r\n",
        "# training random forest\r\n",
        "start = perf_counter()\r\n",
        "RFmodel = RandomForestClassifier(max_depth=1)\r\n",
        "RFmodel.fit(X_train, Y_train)\r\n",
        "\r\n",
        "# testing random forest\r\n",
        "RFpred = RFmodel.predict(X_test)\r\n",
        "RFacc = round(accuracy_score(Y_test, RFpred) * 100, 2)\r\n",
        "RFprec = round(precision_score(Y_test, RFpred, average='weighted', zero_division=0) * 100, 2)\r\n",
        "RFrec = round(recall_score(Y_test, RFpred, average='weighted') * 100, 2)\r\n",
        "time_elapsed = perf_counter() - start\r\n",
        "print(\"Random Forest\", \"Accuracy\", RFacc, \"Precision:\", RFprec, \"Recall:\", RFrec)\r\n",
        "print(\"Random Forest Time Elapsed: \", time_elapsed, \" seconds.\")"
      ],
      "execution_count": null,
      "outputs": [
        {
          "output_type": "stream",
          "text": [
            "Train to test ratio: 0.7 0.3\n",
            "Random Forest Accuracy 79.69 Precision: 79.97 Recall: 79.69\n",
            "Random Forest Time Elapsed:  15.01725381600005  seconds.\n"
          ],
          "name": "stdout"
        }
      ]
    },
    {
      "cell_type": "markdown",
      "metadata": {
        "id": "aNuu4aYxdNA7"
      },
      "source": [
        "We obtained the following results:\r\n",
        "*   Accuracy: 79.69%\r\n",
        "*   Precision: 79.97%\r\n",
        "*   Recall: 79.69%\r\n",
        "*   Time elapsed: 15 seconds\r\n",
        "\r\n",
        "---\r\n",
        "\r\n",
        "Now we use a max_depth=10 "
      ]
    },
    {
      "cell_type": "code",
      "metadata": {
        "colab": {
          "base_uri": "https://localhost:8080/"
        },
        "id": "Irm2RhY6QRRH",
        "outputId": "f97cf470-50a2-459a-a01d-6debc62aa538"
      },
      "source": [
        "# training random forest\r\n",
        "start = perf_counter()\r\n",
        "RFmodel = RandomForestClassifier(max_depth=10)\r\n",
        "RFmodel.fit(X_train, Y_train)\r\n",
        "\r\n",
        "# testing random forest\r\n",
        "RFpred = RFmodel.predict(X_test)\r\n",
        "RFacc = round(accuracy_score(Y_test, RFpred) * 100, 2)\r\n",
        "RFprec = round(precision_score(Y_test, RFpred, average='weighted', zero_division=0) * 100, 2)\r\n",
        "RFrec = round(recall_score(Y_test, RFpred, average='weighted') * 100, 2)\r\n",
        "time_elapsed = perf_counter() - start\r\n",
        "print(\"Random Forest\", \"Accuracy\", RFacc, \"Precision:\", RFprec, \"Recall:\", RFrec)\r\n",
        "print(\"Random Forest Time Elapsed: \", time_elapsed, \" seconds.\")"
      ],
      "execution_count": null,
      "outputs": [
        {
          "output_type": "stream",
          "text": [
            "Random Forest Accuracy 90.64 Precision: 90.77 Recall: 90.64\n",
            "Random Forest Time Elapsed:  74.78256261299993  seconds.\n"
          ],
          "name": "stdout"
        }
      ]
    },
    {
      "cell_type": "markdown",
      "metadata": {
        "id": "-uxg4mXNdNy7"
      },
      "source": [
        "And obtained the following results:\r\n",
        "*   Accuracy: 90.64%\r\n",
        "*   Precision: 90.77%\r\n",
        "*   Recall: 90.64%\r\n",
        "*   Time elapsed: 75 seconds\r\n",
        "\r\n",
        "We can see that by increase the number of max_depth, we greatly increased the time it took to train the model.\r\n",
        "\r\n",
        "---\r\n",
        "\r\n",
        "We do the same thing again with max_depth=25 "
      ]
    },
    {
      "cell_type": "code",
      "metadata": {
        "colab": {
          "base_uri": "https://localhost:8080/"
        },
        "id": "F88ncsKjPIIE",
        "outputId": "58a8d27a-5ccf-431a-8eef-1d07f0109e13"
      },
      "source": [
        "# training random forest\r\n",
        "start = perf_counter()\r\n",
        "RFmodel = RandomForestClassifier(max_depth=25)\r\n",
        "RFmodel.fit(X_train, Y_train)\r\n",
        "\r\n",
        "# testing random forest\r\n",
        "RFpred = RFmodel.predict(X_test)\r\n",
        "RFacc = round(accuracy_score(Y_test, RFpred) * 100, 2)\r\n",
        "RFprec = round(precision_score(Y_test, RFpred, average='weighted', zero_division=0) * 100, 2)\r\n",
        "RFrec = round(recall_score(Y_test, RFpred, average='weighted') * 100, 2)\r\n",
        "time_elapsed = perf_counter() - start\r\n",
        "print(\"Random Forest\", \"Accuracy\", RFacc, \"Precision:\", RFprec, \"Recall:\", RFrec)\r\n",
        "print(\"Random Forest Time Elapsed: \", time_elapsed, \" seconds.\")"
      ],
      "execution_count": null,
      "outputs": [
        {
          "output_type": "stream",
          "text": [
            "Random Forest Accuracy 97.76 Precision: 97.77 Recall: 97.76\n",
            "Random Forest Time Elapsed:  112.1124660160001  seconds.\n"
          ],
          "name": "stdout"
        }
      ]
    },
    {
      "cell_type": "markdown",
      "metadata": {
        "id": "mtmPP1h-dOtr"
      },
      "source": [
        "And obtained the following results:\r\n",
        "*   Accuracy: 97.76%\r\n",
        "*   Precision: 97.77%\r\n",
        "*   Recall: 97.76%\r\n",
        "*   Time elapsed: 112 seconds\r\n",
        "\r\n",
        "This is the best result with Random Forest so far. However, we can not know if we are overfitting until we test our model on the data product\r\n",
        "\r\n",
        "---\r\n",
        "\r\n",
        "Now, we can train our Adaboost model. First we use Naive Bayes, particularly the Gaussian Naive Bayes, as the base estimator."
      ]
    },
    {
      "cell_type": "code",
      "metadata": {
        "colab": {
          "base_uri": "https://localhost:8080/"
        },
        "id": "Ql4SqzN1QY8Q",
        "outputId": "f09ece92-20b6-4e7d-b6cc-d04482697294"
      },
      "source": [
        "from sklearn.naive_bayes import GaussianNB\r\n",
        "\r\n",
        "# training adaboost\r\n",
        "start = perf_counter()\r\n",
        "ABmodel = AdaBoostClassifier(base_estimator=GaussianNB())\r\n",
        "ABmodel.fit(X_train, Y_train)\r\n",
        "\r\n",
        "# testing adaboost\r\n",
        "ABpred = ABmodel.predict(X_test)\r\n",
        "ABacc = round(accuracy_score(Y_test, ABpred) * 100, 2)\r\n",
        "ABprec = round(precision_score(Y_test, ABpred, average='weighted', zero_division=0) * 100, 2)\r\n",
        "ABrec = round(recall_score(Y_test, ABpred, average='weighted') * 100, 2)\r\n",
        "time_elapsed = perf_counter() - start\r\n",
        "print(\"AdaBoost\", \"Accuracy:\", ABacc, \"Precision:\", ABprec, \"Recall:\", ABrec)\r\n",
        "print(\"AdaBoost Time Elapsed: \", time_elapsed, \" seconds.\")"
      ],
      "execution_count": null,
      "outputs": [
        {
          "output_type": "stream",
          "text": [
            "AdaBoost Accuracy: 65.98 Precision: 68.65 Recall: 65.98\n",
            "AdaBoost Time Elapsed:  24.231937038999945  seconds.\n"
          ],
          "name": "stdout"
        }
      ]
    },
    {
      "cell_type": "markdown",
      "metadata": {
        "id": "acoFrIszdP9L"
      },
      "source": [
        " We obtained the following results:\r\n",
        "*   Accuracy: 65.98%\r\n",
        "*   Precision: 68.65%\r\n",
        "*   Recall: 65.98%\r\n",
        "*   Time elapsed: 24 seconds\r\n",
        "\r\n",
        "This is not a good result, so we will not use this model\r\n",
        "\r\n",
        "---\r\n",
        "\r\n",
        "Next, we try the ExtraTreeClassifier as the base estimator. "
      ]
    },
    {
      "cell_type": "code",
      "metadata": {
        "colab": {
          "base_uri": "https://localhost:8080/"
        },
        "id": "123WzaaKQZCl",
        "outputId": "d449591b-092b-4e54-f940-c18c4e888fec"
      },
      "source": [
        "from sklearn.tree import ExtraTreeClassifier\r\n",
        "\r\n",
        "# training adaboost\r\n",
        "start = perf_counter()\r\n",
        "ABmodel = AdaBoostClassifier(base_estimator=ExtraTreeClassifier())\r\n",
        "ABmodel.fit(X_train, Y_train)\r\n",
        "\r\n",
        "# testing adaboost\r\n",
        "ABpred = ABmodel.predict(X_test)\r\n",
        "ABacc = round(accuracy_score(Y_test, ABpred) * 100, 2)\r\n",
        "ABprec = round(precision_score(Y_test, ABpred, average='weighted', zero_division=0) * 100, 2)\r\n",
        "ABrec = round(recall_score(Y_test, ABpred, average='weighted') * 100, 2)\r\n",
        "time_elapsed = perf_counter() - start\r\n",
        "print(\"AdaBoost\", \"Accuracy:\", ABacc, \"Precision:\", ABprec, \"Recall:\", ABrec)\r\n",
        "print(\"AdaBoost Time Elapsed: \", time_elapsed, \" seconds.\")"
      ],
      "execution_count": null,
      "outputs": [
        {
          "output_type": "stream",
          "text": [
            "AdaBoost Accuracy: 96.89 Precision: 96.89 Recall: 96.89\n",
            "AdaBoost Time Elapsed:  44.81217424199997  seconds.\n"
          ],
          "name": "stdout"
        }
      ]
    },
    {
      "cell_type": "markdown",
      "metadata": {
        "id": "KWjeyP17dUH7"
      },
      "source": [
        "We obtained the following results:\r\n",
        "*   Accuracy: 96.89%\r\n",
        "*   Precision: 96.89%\r\n",
        "*   Recall: 96.89%\r\n",
        "*   Time elapsed: 44 seconds\r\n",
        "\r\n",
        "This is a good result, but we can do better.\r\n",
        "\r\n",
        "---\r\n",
        "\r\n",
        "Now we can test the default base estimator, which is the Decision Tree if no parameters are given. "
      ]
    },
    {
      "cell_type": "code",
      "metadata": {
        "colab": {
          "base_uri": "https://localhost:8080/"
        },
        "id": "A8Z83tPh7H4m",
        "outputId": "1a6d2260-8076-4394-cb28-23b930e33e27"
      },
      "source": [
        "from sklearn.tree import DecisionTreeClassifier\r\n",
        "\r\n",
        "# training adaboost\r\n",
        "start = perf_counter()\r\n",
        "ABmodel = AdaBoostClassifier(base_estimator=DecisionTreeClassifier())\r\n",
        "ABmodel.fit(X_train, Y_train)\r\n",
        "\r\n",
        "# testing adaboost\r\n",
        "ABpred = ABmodel.predict(X_test)\r\n",
        "ABacc = round(accuracy_score(Y_test, ABpred) * 100, 2)\r\n",
        "ABprec = round(precision_score(Y_test, ABpred, average='weighted', zero_division=0) * 100, 2)\r\n",
        "ABrec = round(recall_score(Y_test, ABpred, average='weighted') * 100, 2)\r\n",
        "time_elapsed = perf_counter() - start\r\n",
        "print(\"AdaBoost\", \"Accuracy:\", ABacc, \"Precision:\", ABprec, \"Recall:\", ABrec)\r\n",
        "print(\"AdaBoost Time Elapsed: \", time_elapsed, \" seconds.\")"
      ],
      "execution_count": null,
      "outputs": [
        {
          "output_type": "stream",
          "text": [
            "AdaBoost Accuracy: 98.43 Precision: 98.43 Recall: 98.43\n",
            "AdaBoost Time Elapsed:  214.69023468800003  seconds.\n"
          ],
          "name": "stdout"
        }
      ]
    },
    {
      "cell_type": "markdown",
      "metadata": {
        "id": "cqTwiSKB8PeQ"
      },
      "source": [
        "We obtained the following results:\r\n",
        "*   Accuracy: 98.43%\r\n",
        "*   Precision: 98.43%\r\n",
        "*   Recall: 98.43%\r\n",
        "*   Time elapsed: 215 seconds\r\n",
        "\r\n",
        "The accuracy, precision, and recall are very high, however it took much longer to train. \r\n",
        "\r\n",
        "---\r\n",
        "\r\n",
        "Now that we have determined Decision Tree is a good base estimator, we can try it with max_depth=1. "
      ]
    },
    {
      "cell_type": "code",
      "metadata": {
        "colab": {
          "base_uri": "https://localhost:8080/"
        },
        "id": "EWtxBNUgkcK8",
        "outputId": "fcaa054c-f6a9-4e52-9079-a82640343231"
      },
      "source": [
        "from sklearn.tree import DecisionTreeClassifier\r\n",
        "\r\n",
        "# training adaboost\r\n",
        "start = perf_counter()\r\n",
        "ABmodel = AdaBoostClassifier(base_estimator=DecisionTreeClassifier(max_depth=1))\r\n",
        "ABmodel.fit(X_train, Y_train)\r\n",
        "\r\n",
        "# testing adaboost\r\n",
        "ABpred = ABmodel.predict(X_test)\r\n",
        "ABacc = round(accuracy_score(Y_test, ABpred) * 100, 2)\r\n",
        "ABprec = round(precision_score(Y_test, ABpred, average='weighted', zero_division=0) * 100, 2)\r\n",
        "ABrec = round(recall_score(Y_test, ABpred, average='weighted') * 100, 2)\r\n",
        "time_elapsed = perf_counter() - start\r\n",
        "print(\"AdaBoost\", \"Accuracy:\", ABacc, \"Precision:\", ABprec, \"Recall:\", ABrec)\r\n",
        "print(\"AdaBoost Time Elapsed: \", time_elapsed, \" seconds.\")"
      ],
      "execution_count": null,
      "outputs": [
        {
          "output_type": "stream",
          "text": [
            "AdaBoost Accuracy: 87.32 Precision: 87.35 Recall: 87.32\n",
            "AdaBoost Time Elapsed:  30.614752263000014  seconds.\n"
          ],
          "name": "stdout"
        }
      ]
    },
    {
      "cell_type": "markdown",
      "metadata": {
        "id": "qATmAsIs8SCO"
      },
      "source": [
        "We obtained the following results:\r\n",
        "*   Accuracy: 87.32%\r\n",
        "*   Precision: 87.35%\r\n",
        "*   Recall: 87.32%\r\n",
        "*   Time elapsed: 31 seconds\r\n",
        "\r\n",
        "The time elapsed is much lower, but the performance is still relatively good.\r\n",
        "\r\n",
        "---\r\n",
        "\r\n",
        "Now we try with max_depth=25 "
      ]
    },
    {
      "cell_type": "code",
      "metadata": {
        "colab": {
          "base_uri": "https://localhost:8080/"
        },
        "id": "XaueeWjXPGoD",
        "outputId": "336223d4-facf-47ee-cdda-46abca222a9a"
      },
      "source": [
        "# training adaboost\r\n",
        "start = perf_counter()\r\n",
        "ABmodel = AdaBoostClassifier(base_estimator=DecisionTreeClassifier(max_depth=25))\r\n",
        "ABmodel.fit(X_train, Y_train)\r\n",
        "\r\n",
        "# testing adaboost\r\n",
        "ABpred = ABmodel.predict(X_test)\r\n",
        "ABacc = round(accuracy_score(Y_test, ABpred) * 100, 2)\r\n",
        "ABprec = round(precision_score(Y_test, ABpred, average='weighted', zero_division=0) * 100, 2)\r\n",
        "ABrec = round(recall_score(Y_test, ABpred, average='weighted') * 100, 2)\r\n",
        "time_elapsed = perf_counter() - start\r\n",
        "print(\"AdaBoost\", \"Accuracy:\", ABacc, \"Precision:\", ABprec, \"Recall:\", ABrec)\r\n",
        "print(\"AdaBoost Time Elapsed: \", time_elapsed, \" seconds.\")"
      ],
      "execution_count": null,
      "outputs": [
        {
          "output_type": "stream",
          "text": [
            "AdaBoost Accuracy: 98.7 Precision: 98.7 Recall: 98.7\n",
            "AdaBoost Time Elapsed:  194.90734541999996  seconds.\n"
          ],
          "name": "stdout"
        }
      ]
    },
    {
      "cell_type": "markdown",
      "metadata": {
        "id": "r_S-Qa9IdVpz"
      },
      "source": [
        "And obtained the following results:\r\n",
        "*   Accuracy: 98.70%\r\n",
        "*   Precision: 98.70%\r\n",
        "*   Recall: 98.70%\r\n",
        "*   Time elapsed: 195 seconds\r\n",
        "\r\n",
        "This is the longest time elapsed so far, but also the best performance in terms of accuracy, precision, and recall. Again, we will not know if the model is overfitting the data until we test it on our data product.\r\n",
        "\r\n",
        "---\r\n",
        "## 20% Test Ratio\r\n",
        "\r\n",
        "Now, we can try to run the same process with 20% testing ratio instead. Starting with Random Forest with max_depth=1, "
      ]
    },
    {
      "cell_type": "code",
      "metadata": {
        "colab": {
          "base_uri": "https://localhost:8080/"
        },
        "id": "J8RJHy1HSRtG",
        "outputId": "d77e5498-cdf7-4429-b372-02bab1b3e309"
      },
      "source": [
        "# test size\r\n",
        "test_size = 0.2\r\n",
        "\r\n",
        "# train test split\r\n",
        "X_train, X_test, Y_train, Y_test = train_test_split(X, Y, test_size=test_size, random_state=42)\r\n",
        "print(\"Train to test ratio:\", 1-test_size, test_size)\r\n",
        "\r\n",
        "# training random forest\r\n",
        "start = perf_counter()\r\n",
        "RF_1 = RandomForestClassifier(max_depth=1)\r\n",
        "RF_1.fit(X_train, Y_train)\r\n",
        "\r\n",
        "# testing random forest\r\n",
        "RFpred = RF_1.predict(X_test)\r\n",
        "RFacc = round(accuracy_score(Y_test, RFpred) * 100, 2)\r\n",
        "RFprec = round(precision_score(Y_test, RFpred, average='weighted', zero_division=0) * 100, 2)\r\n",
        "RFrec = round(recall_score(Y_test, RFpred, average='weighted') * 100, 2)\r\n",
        "time_elapsed = perf_counter() - start\r\n",
        "print(\"Random Forest\", \"Accuracy\", RFacc, \"Precision:\", RFprec, \"Recall:\", RFrec)\r\n",
        "print(\"Random Forest Time Elapsed: \", time_elapsed, \" seconds.\")"
      ],
      "execution_count": null,
      "outputs": [
        {
          "output_type": "stream",
          "text": [
            "Train to test ratio: 0.8 0.2\n",
            "Random Forest Accuracy 78.69 Precision: 78.83 Recall: 78.69\n",
            "Random Forest Time Elapsed:  15.100225382999952  seconds.\n"
          ],
          "name": "stdout"
        }
      ]
    },
    {
      "cell_type": "markdown",
      "metadata": {
        "id": "6IR_t9eFD4cJ"
      },
      "source": [
        "we obtained the results:\r\n",
        "*   Accuracy: 78.69%\r\n",
        "*   Precision: 78.83%\r\n",
        "*   Recall: 78.69%\r\n",
        "*   Time elapsed: 15 seconds\r\n",
        "\r\n",
        "The time elapsed is very low and the performance is relatively high.\r\n",
        "\r\n",
        "---\r\n",
        "\r\n",
        "We do the same thing but with max_depth=10. "
      ]
    },
    {
      "cell_type": "code",
      "metadata": {
        "colab": {
          "base_uri": "https://localhost:8080/"
        },
        "id": "vljTvrkjU-Nk",
        "outputId": "6f13ee80-4cfb-45ce-ad5e-a6ef57cc56ce"
      },
      "source": [
        "# training random forest\r\n",
        "start = perf_counter()\r\n",
        "RF_10 = RandomForestClassifier(max_depth=10)\r\n",
        "RF_10.fit(X_train, Y_train)\r\n",
        "\r\n",
        "# testing random forest\r\n",
        "RFpred = RF_10.predict(X_test)\r\n",
        "RFacc = round(accuracy_score(Y_test, RFpred) * 100, 2)\r\n",
        "RFprec = round(precision_score(Y_test, RFpred, average='weighted', zero_division=0) * 100, 2)\r\n",
        "RFrec = round(recall_score(Y_test, RFpred, average='weighted') * 100, 2)\r\n",
        "time_elapsed = perf_counter() - start\r\n",
        "print(\"Random Forest\", \"Accuracy\", RFacc, \"Precision:\", RFprec, \"Recall:\", RFrec)\r\n",
        "print(\"Random Forest Time Elapsed: \", time_elapsed, \" seconds.\")"
      ],
      "execution_count": null,
      "outputs": [
        {
          "output_type": "stream",
          "text": [
            "Random Forest Accuracy 90.76 Precision: 90.9 Recall: 90.76\n",
            "Random Forest Time Elapsed:  74.43826018799996  seconds.\n"
          ],
          "name": "stdout"
        }
      ]
    },
    {
      "cell_type": "markdown",
      "metadata": {
        "id": "fv-yYChftVjD"
      },
      "source": [
        "We obtained the results:\r\n",
        "*   Accuracy: 90.76%\r\n",
        "*   Precision: 90.90%\r\n",
        "*   Recall: 90.76%\r\n",
        "*   Time elapsed: 74 seconds\r\n",
        "\r\n",
        "This is a very good result.\r\n",
        "\r\n",
        "---\r\n",
        "\r\n",
        "Now let's try max_depth=25\r\n",
        "\r\n"
      ]
    },
    {
      "cell_type": "code",
      "metadata": {
        "colab": {
          "base_uri": "https://localhost:8080/"
        },
        "id": "Lmk3tJ6U_VMQ",
        "outputId": "d8f82485-5f56-4e59-d84b-47e86b20d87d"
      },
      "source": [
        "# training random forest\r\n",
        "start = perf_counter()\r\n",
        "RF_25 = RandomForestClassifier(max_depth=25)\r\n",
        "RF_25.fit(X_train, Y_train)\r\n",
        "\r\n",
        "# testing random forest\r\n",
        "RFpred = RF_25.predict(X_test)\r\n",
        "RFacc = round(accuracy_score(Y_test, RFpred) * 100, 2)\r\n",
        "RFprec = round(precision_score(Y_test, RFpred, average='weighted', zero_division=0) * 100, 2)\r\n",
        "RFrec = round(recall_score(Y_test, RFpred, average='weighted') * 100, 2)\r\n",
        "time_elapsed = perf_counter() - start\r\n",
        "print(\"Random Forest\", \"Accuracy\", RFacc, \"Precision:\", RFprec, \"Recall:\", RFrec)\r\n",
        "print(\"Random Forest Time Elapsed: \", time_elapsed, \" seconds.\")"
      ],
      "execution_count": null,
      "outputs": [
        {
          "output_type": "stream",
          "text": [
            "Random Forest Accuracy 97.86 Precision: 97.87 Recall: 97.86\n",
            "Random Forest Time Elapsed:  114.00814012799992  seconds.\n"
          ],
          "name": "stdout"
        }
      ]
    },
    {
      "cell_type": "markdown",
      "metadata": {
        "id": "gYZXVtNLdYbs"
      },
      "source": [
        "We get the results:\r\n",
        "*   Accuracy: 97.86%\r\n",
        "*   Precision: 97.87%\r\n",
        "*   Recall: 97.86%\r\n",
        "*   Time elapsed: 114 seconds\r\n",
        "\r\n",
        "This is the best performance for our Random Forest.\r\n",
        "\r\n",
        "---\r\n",
        "\r\n",
        "We do the same thing for Adaboost, starting with max_depth=1. "
      ]
    },
    {
      "cell_type": "code",
      "metadata": {
        "colab": {
          "base_uri": "https://localhost:8080/"
        },
        "id": "FFD9WIhj_aEX",
        "outputId": "b69b8e25-25f1-46ed-fa3e-266d284a48d6"
      },
      "source": [
        "# training adaboost\r\n",
        "start = perf_counter()\r\n",
        "AB_1 = AdaBoostClassifier(base_estimator=DecisionTreeClassifier(max_depth=1))\r\n",
        "AB_1.fit(X_train, Y_train)\r\n",
        "\r\n",
        "# testing adaboost\r\n",
        "ABpred = AB_1.predict(X_test)\r\n",
        "ABacc = round(accuracy_score(Y_test, ABpred) * 100, 2)\r\n",
        "ABprec = round(precision_score(Y_test, ABpred, average='weighted', zero_division=0) * 100, 2)\r\n",
        "ABrec = round(recall_score(Y_test, ABpred, average='weighted') * 100, 2)\r\n",
        "time_elapsed = perf_counter() - start\r\n",
        "print(\"AdaBoost\", \"Accuracy:\", ABacc, \"Precision:\", ABprec, \"Recall:\", ABrec)\r\n",
        "print(\"AdaBoost Time Elapsed: \", time_elapsed, \" seconds.\")"
      ],
      "execution_count": null,
      "outputs": [
        {
          "output_type": "stream",
          "text": [
            "AdaBoost Accuracy: 87.38 Precision: 87.41 Recall: 87.38\n",
            "AdaBoost Time Elapsed:  31.59044422099987  seconds.\n"
          ],
          "name": "stdout"
        }
      ]
    },
    {
      "cell_type": "markdown",
      "metadata": {
        "id": "kyWCwgahtsrw"
      },
      "source": [
        "We obtained the results:\r\n",
        "*   Accuracy: 87.38%\r\n",
        "*   Precision: 87.41%\r\n",
        "*   Recall: 87.38%\r\n",
        "*   Time elapsed: 32 seconds\r\n",
        "\r\n",
        "We see that when the max_depth are the same, Adaboost outperformed Random Forest, contrary to our results from RapidMiner. Adaboost took twice as long as Random Forest to train.\r\n",
        "\r\n",
        "---\r\n",
        "\r\n",
        "Now we can try max_depth=10"
      ]
    },
    {
      "cell_type": "code",
      "metadata": {
        "colab": {
          "base_uri": "https://localhost:8080/"
        },
        "id": "EieG4NnsU7yl",
        "outputId": "d7948273-8bb1-4021-84dd-dbe9734a23aa"
      },
      "source": [
        "# training adaboost\r\n",
        "start = perf_counter()\r\n",
        "AB_10 = AdaBoostClassifier(base_estimator=DecisionTreeClassifier(max_depth=10))\r\n",
        "AB_10.fit(X_train, Y_train)\r\n",
        "\r\n",
        "# testing adaboost\r\n",
        "ABpred = AB_10.predict(X_test)\r\n",
        "ABacc = round(accuracy_score(Y_test, ABpred) * 100, 2)\r\n",
        "ABprec = round(precision_score(Y_test, ABpred, average='weighted', zero_division=0) * 100, 2)\r\n",
        "ABrec = round(recall_score(Y_test, ABpred, average='weighted') * 100, 2)\r\n",
        "time_elapsed = perf_counter() - start\r\n",
        "print(\"AdaBoost\", \"Accuracy:\", ABacc, \"Precision:\", ABprec, \"Recall:\", ABrec)\r\n",
        "print(\"AdaBoost Time Elapsed: \", time_elapsed, \" seconds.\")"
      ],
      "execution_count": null,
      "outputs": [
        {
          "output_type": "stream",
          "text": [
            "AdaBoost Accuracy: 98.8 Precision: 98.8 Recall: 98.8\n",
            "AdaBoost Time Elapsed:  218.75830530500002  seconds.\n"
          ],
          "name": "stdout"
        }
      ]
    },
    {
      "cell_type": "markdown",
      "metadata": {
        "id": "Q32xbq9NEWhp"
      },
      "source": [
        "We obtained the results:\r\n",
        "*   Accuracy: 98.80%\r\n",
        "*   Precision: 98.80%\r\n",
        "*   Recall: 98.80%\r\n",
        "*   Time elapsed: 219 seconds\r\n",
        "\r\n",
        "---\r\n",
        "\r\n",
        "Finally, we try max_depth=25"
      ]
    },
    {
      "cell_type": "code",
      "metadata": {
        "colab": {
          "base_uri": "https://localhost:8080/"
        },
        "id": "wEd5ZX__SQgH",
        "outputId": "8e552822-49e2-45f0-e4e4-41b959813acb"
      },
      "source": [
        "# training adaboost\r\n",
        "start = perf_counter()\r\n",
        "AB_25 = AdaBoostClassifier(base_estimator=DecisionTreeClassifier(max_depth=25))\r\n",
        "AB_25.fit(X_train, Y_train)\r\n",
        "\r\n",
        "# testing adaboost\r\n",
        "ABpred = AB_25.predict(X_test)\r\n",
        "ABacc = round(accuracy_score(Y_test, ABpred) * 100, 2)\r\n",
        "ABprec = round(precision_score(Y_test, ABpred, average='weighted', zero_division=0) * 100, 2)\r\n",
        "ABrec = round(recall_score(Y_test, ABpred, average='weighted') * 100, 2)\r\n",
        "time_elapsed = perf_counter() - start\r\n",
        "print(\"AdaBoost\", \"Accuracy:\", ABacc, \"Precision:\", ABprec, \"Recall:\", ABrec)\r\n",
        "print(\"AdaBoost Time Elapsed: \", time_elapsed, \" seconds.\")"
      ],
      "execution_count": null,
      "outputs": [
        {
          "output_type": "stream",
          "text": [
            "AdaBoost Accuracy: 98.81 Precision: 98.81 Recall: 98.81\n",
            "AdaBoost Time Elapsed:  244.1962600600002  seconds.\n"
          ],
          "name": "stdout"
        }
      ]
    },
    {
      "cell_type": "markdown",
      "metadata": {
        "id": "06Gm7iHGdZNz"
      },
      "source": [
        " We obtained the results:\r\n",
        "*   Accuracy: 98.81%\r\n",
        "*   Precision: 98.81%\r\n",
        "*   Recall: 98.81%\r\n",
        "*   Time elapsed: 244 seconds\r\n",
        "\r\n",
        "Again, we see a higher slightly performance compared to Random Forest, and again the training took twice as long.\r\n",
        "\r\n",
        "---\r\n",
        "\r\n",
        "We save both the Random Forest and the Adaboost forest, for max_depth=1, max_depth=10 and max_depth=25. This is because we want to test if any of these models are overfitting"
      ]
    },
    {
      "cell_type": "code",
      "metadata": {
        "colab": {
          "base_uri": "https://localhost:8080/"
        },
        "id": "K6pZpCE6SX99",
        "outputId": "b533c664-03bf-4218-925e-415e9bfdbe1c"
      },
      "source": [
        "# save model\r\n",
        "dump(RF_1, 'RandomForest_1.joblib')\r\n",
        "dump(RF_10, 'RandomForest_10.joblib')\r\n",
        "dump(RF_25, 'RandomForest_25.joblib')\r\n",
        "\r\n",
        "# save model\r\n",
        "dump(AB_1, 'Adaboost_1.joblib')\r\n",
        "dump(AB_10, 'Adaboost_10.joblib')\r\n",
        "dump(AB_25, 'Adaboost_25.joblib')"
      ],
      "execution_count": null,
      "outputs": [
        {
          "output_type": "execute_result",
          "data": {
            "text/plain": [
              "['Adaboost_25.joblib']"
            ]
          },
          "metadata": {
            "tags": []
          },
          "execution_count": 27
        }
      ]
    },
    {
      "cell_type": "markdown",
      "metadata": {
        "id": "gVlZjD37Zuch"
      },
      "source": [
        "---\r\n",
        "# **Results and Analysis**\r\n",
        "---\r\n",
        "\r\n",
        "## Exploratory Data Analysis\r\n",
        "From our exploratory data analysis, **we can see that there is indeed a correlation between national inventory, sales performance, and backorder**. Generally, when the sales performance exceeds the national inventory, the product becomes a backorder. Another thing we have learned from the data analysis is that, when the sales performance exceeds the forecasted sales, then there is a high probability that the product will also go on backorder.\r\n",
        "\r\n",
        "---\r\n",
        "\r\n",
        "## Association Rules\r\n",
        "With association rules, we can see the relationship between the attributes. The categorical attributes (oe_constraint, desk_risk, rev_stop) frequently go together. **When oe_constraint is false, then there is a high likelihood that rev_stop is also false, and vice versa.**\r\n",
        "\r\n",
        "\r\n",
        "---\r\n",
        "\r\n",
        "\r\n",
        "## Clustering\r\n",
        "With clustering, we are able to cluster similar instances together. Within the \"Yes\" backorder products, we see that cluster 0 is the majority cluster, whereas cluster 1 and cluster 2 can be considered as an outlier. **Cluster 0 is low in sales and inventory, cluster 1 is high in both sales and inventory, and cluster 2 is in between the two.**\r\n",
        "\r\n",
        "For cluster 0 and cluster 2, we see that the average sales do exceed the average inventory, which confirms our hypothesis. Cluster 1 contradicts our hypothesis, but it can be considered an outlier to the data.\r\n",
        "\r\n",
        "\r\n",
        "---\r\n",
        "\r\n",
        "\r\n",
        "## Predictive Data Mining\r\n",
        "After comparing 2 classification algorithms, we find that, in general, **Adaboost has the higher accuracy, precision, and recall than Random Forest**, when max_depth are the same. \r\n",
        "\r\n",
        "The result here on Colab is different to our results on RapidMiner. On RapidMiner, the performance of Random Forest is higher than Adaboost. I'm not certain why, and I can only hypothesize that it is due to a different implementation of the algorithms.\r\n",
        "\r\n",
        "Here is the tabulated results:\r\n",
        "\r\n",
        "![](https://drive.google.com/uc?export=view&id=1c_dKXSM4crxS4BB-Wej9oz0_UmBXwPSG)\r\n",
        "\r\n",
        "If we look at the file sizes, Adaboost_1, Adaboost_10, Adaboost_25 have file sizes 31.1KB, 2.85MB, and 17.5MB respectively.\r\n",
        "\r\n",
        "On the other hand, RandomForest_1, RandomForest_10, and RandomForest_25 have file sizes 60KB, 6.84MB, and 156MB respectively.\r\n",
        "\r\n",
        "As for time taken to train the model, Adaboost_1, Adaboost_10, Adaboost_25 took 32, 219, and 244 seconds respectively.\r\n",
        "\r\n",
        "RandomForest_1, RandomForest_10, and RandomForest_25 took 15, 74, 114 seconds respectively.\r\n",
        "\r\n",
        "**Adaboost takes twice as long as Random Forest to train.**\r\n",
        "\r\n",
        "However, we won't know if any of these models are overfitting until we test it in the Data product."
      ]
    },
    {
      "cell_type": "markdown",
      "metadata": {
        "id": "LtkiT7IhZ4Pp"
      },
      "source": [
        "# **Data Product**\r\n",
        "\r\n",
        "The data product is built on streamlit because it allows us to rapidly prototype a data product without much coding. Our data product allows the user to manipulate the variables and predict if they will be a backorder or not. We will use these features to predict the backorder:\r\n",
        "\r\n",
        "*  national_inv\r\n",
        "*  lead_time\r\n",
        "*  In_transit_qty\r\n",
        "*  sales_6_month\r\n",
        "*  perf_6_months_avg\r\n",
        "*  potential_issue\r\n",
        "*  pieces_past_due\r\n",
        "*  local_bo_qty\r\n",
        "*  deck_risk\r\n",
        "*  oe_constraint\r\n",
        "*  ppap_risk\r\n",
        "*  stop_auto_buy\r\n",
        "*  rev_stop\r\n"
      ]
    },
    {
      "cell_type": "code",
      "metadata": {
        "colab": {
          "base_uri": "https://localhost:8080/"
        },
        "id": "an5SC8dUcE-f",
        "outputId": "cf7d4bfa-84b4-40dc-b835-1376a4a8d6f3"
      },
      "source": [
        "%%writefile app.py\n",
        "\n",
        "import pandas as pd\n",
        "import streamlit as st\n",
        "from joblib import load\n",
        "from PIL import Image\n",
        "\n",
        "DATA_PATH = 'data.csv'\n",
        "\n",
        "@st.cache\n",
        "def load_data(path):\n",
        "    data = pd.read_csv(path)\n",
        "    lowercase = lambda x: str(x).lower()\n",
        "    data.rename(lowercase, axis='columns', inplace=True)\n",
        "    return data\n",
        "\n",
        "data_load_state = st.text('Loading data...')\n",
        "df = load_data(DATA_PATH)\n",
        "data_load_state.text(\"Done loading data!\")\n",
        "\n",
        "\n",
        "def main():\n",
        "    @st.cache\n",
        "    def agg_data(df, mode):\n",
        "        dat = df.agg([mode])\n",
        "        return dat\n",
        "\n",
        "    data_agg_state = st.text('Aggregating data...')\n",
        "    dfMin = agg_data(df, 'min')\n",
        "    dfMax = agg_data(df, 'max')\n",
        "    dfMedian = agg_data(df, 'median')\n",
        "    dfMode = agg_data(df, 'mode')\n",
        "    data_agg_state.text(\"Done aggregating data!\")\n",
        "\n",
        "    st.title('Product Backorder')\n",
        "    st.sidebar.title(\"Features\")\n",
        "\n",
        "    quant_parameter_list = ['national_inv',\n",
        "                    'lead_time',\n",
        "                    'in_transit_qty',\n",
        "                    'sales_1_month',\n",
        "                    'pieces_past_due',\n",
        "                    'perf_6_month_avg',\n",
        "                    'local_bo_qty']\n",
        "\n",
        "    qual_parameter_list = ['potential_issue',\n",
        "                        'deck_risk',\n",
        "                        'oe_constraint',\n",
        "                        'ppap_risk',\n",
        "                        'stop_auto_buy',\n",
        "                        'rev_stop']\n",
        "\n",
        "    parameter_input_values=[]\n",
        "    values=[]\n",
        "    \n",
        "    model_select = st.selectbox(label='Select Classification Model', options=(('Adaboost_1', 'Adaboost_10','Adaboost_25', 'RandomForest_1', 'RandomForest_10', 'RandomForest_25')))\n",
        "\n",
        "    for parameter in quant_parameter_list:\n",
        "      values = st.sidebar.slider(label=parameter, key=parameter, value=float(dfMedian[parameter]), min_value=float(dfMin[parameter]), max_value=float(dfMax[parameter]), step=0.1)\n",
        "      parameter_input_values.append(values)\n",
        "\n",
        "    for parameter in qual_parameter_list:\n",
        "        ind = dfMode[parameter].iloc[0]\n",
        "        values = st.sidebar.selectbox(label=parameter, key=parameter, index=int(ind), options=('Yes', 'No'))\n",
        "        val = 1 if values == 'Yes' else 0\n",
        "        parameter_input_values.append(val)\n",
        "\n",
        "    parameter_list = quant_parameter_list + qual_parameter_list\n",
        "    input_variables=pd.DataFrame([parameter_input_values],columns=parameter_list)\n",
        "    st.write('\\n\\n')\n",
        "\n",
        "    if (model_select == \"Adaboost_1\"):\n",
        "      model = load('Adaboost_1.joblib')\n",
        "    elif (model_select == \"Adaboost_10\"):\n",
        "      model = load('Adaboost_10.joblib')\n",
        "    elif (model_select == \"Adaboost_25\"):\n",
        "      model = load('Adaboost_25.joblib')\n",
        "    elif (model_select == \"RandomForest_1\"):\n",
        "      model = load('RandomForest_1.joblib')\n",
        "    elif (model_select == \"RandomForest_10\"):\n",
        "      model = load('RandomForest_10.joblib')\n",
        "    elif (model_select == \"RandomForest_25\"):\n",
        "      model = load('RandomForest_25.joblib')\n",
        "    else:\n",
        "      model = load('Adaboost_1.joblib')\n",
        "\n",
        "    if st.button(\"Will the product be a backorder?\"):\n",
        "        prediction = model.predict(input_variables)\n",
        "        pred = 'No' if prediction == 0 else 'Yes'\n",
        "        st.text(pred)\n",
        "\n",
        "if __name__ == '__main__':\n",
        "      main()"
      ],
      "execution_count": null,
      "outputs": [
        {
          "output_type": "stream",
          "text": [
            "Writing app.py\n"
          ],
          "name": "stdout"
        }
      ]
    },
    {
      "cell_type": "markdown",
      "metadata": {
        "id": "bnxFCNWvdnOj"
      },
      "source": [
        "We install ngrok so we can run streamlit on Colab"
      ]
    },
    {
      "cell_type": "code",
      "metadata": {
        "colab": {
          "base_uri": "https://localhost:8080/"
        },
        "id": "pXprJQcTKnJB",
        "outputId": "9af1b85d-4af1-4f1f-8481-fce829e281f6"
      },
      "source": [
        "!pip -q install streamlit\r\n",
        "!pip -q install pyngrok\r\n",
        "\r\n",
        "# Setup a tunnel to the streamlit port 8501\r\n",
        "from pyngrok import ngrok\r\n",
        "public_url = ngrok.connect(port='8501')\r\n",
        "public_url"
      ],
      "execution_count": null,
      "outputs": [
        {
          "output_type": "stream",
          "text": [
            "\u001b[K     |████████████████████████████████| 7.5MB 5.1MB/s \n",
            "\u001b[K     |████████████████████████████████| 4.6MB 59.3MB/s \n",
            "\u001b[K     |████████████████████████████████| 163kB 60.6MB/s \n",
            "\u001b[K     |████████████████████████████████| 81kB 7.8MB/s \n",
            "\u001b[K     |████████████████████████████████| 112kB 38.3MB/s \n",
            "\u001b[K     |████████████████████████████████| 122kB 52.4MB/s \n",
            "\u001b[K     |████████████████████████████████| 71kB 4.6MB/s \n",
            "\u001b[?25h  Building wheel for blinker (setup.py) ... \u001b[?25l\u001b[?25hdone\n",
            "\u001b[31mERROR: google-colab 1.0.0 has requirement ipykernel~=4.10, but you'll have ipykernel 5.4.3 which is incompatible.\u001b[0m\n",
            "  Building wheel for pyngrok (setup.py) ... \u001b[?25l\u001b[?25hdone\n"
          ],
          "name": "stdout"
        },
        {
          "output_type": "execute_result",
          "data": {
            "text/plain": [
              "<NgrokTunnel: \"http://234ee057f6da.ngrok.io\" -> \"http://localhost:80\">"
            ]
          },
          "metadata": {
            "tags": []
          },
          "execution_count": 29
        }
      ]
    },
    {
      "cell_type": "code",
      "metadata": {
        "colab": {
          "base_uri": "https://localhost:8080/"
        },
        "id": "zUjWeMtEwBsg",
        "outputId": "8c113ad1-2dbf-4ba6-b313-d8c21982e45d"
      },
      "source": [
        "!streamlit run --server.port 80 app.py & >/dev/null"
      ],
      "execution_count": null,
      "outputs": [
        {
          "output_type": "stream",
          "text": [
            "\u001b[0m\n",
            "\u001b[34m\u001b[1m  You can now view your Streamlit app in your browser.\u001b[0m\n",
            "\u001b[0m\n",
            "\u001b[34m  Network URL: \u001b[0m\u001b[1mhttp://172.28.0.2:80\u001b[0m\n",
            "\u001b[34m  External URL: \u001b[0m\u001b[1mhttp://35.231.250.250:80\u001b[0m\n",
            "\u001b[0m\n",
            "\u001b[34m  Stopping...\u001b[0m\n"
          ],
          "name": "stdout"
        }
      ]
    },
    {
      "cell_type": "markdown",
      "metadata": {
        "id": "ay9efz5KdvnC"
      },
      "source": [
        "We can now terminate streamlit and ngrok"
      ]
    },
    {
      "cell_type": "code",
      "metadata": {
        "colab": {
          "base_uri": "https://localhost:8080/"
        },
        "id": "TumXEnd6LkK-",
        "outputId": "e280b161-975f-478f-ee74-2f897380e70f"
      },
      "source": [
        "!pgrep streamlit\r\n",
        "ngrok.kill()"
      ],
      "execution_count": null,
      "outputs": [
        {
          "output_type": "stream",
          "text": [
            "347\n"
          ],
          "name": "stdout"
        }
      ]
    },
    {
      "cell_type": "markdown",
      "metadata": {
        "id": "PNzQ9zqYZ5iJ"
      },
      "source": [
        "# **Conclusion**\n",
        "\n",
        "We can test our model in our data product. By logical deduction and also confirmed by our data analysis earlier on, sales that exceed the national inventory will go on a backorder, and vice versa.\n",
        "\n",
        "So, first we test each model with **national_inv=100000 and sales=1**. The expected output is \"No.\" These are the results obtained:\n",
        "\n",
        "*   **Adaboost_1**: No\n",
        "*   **Adaboost_10**: No\n",
        "*   **Adaboost_25**: No\n",
        "*   **RandomForest_1**: *Yes*\n",
        "*   **RandomForest_10**: No\n",
        "*   **RandomForest_25** : No\n",
        "\n",
        "We can see that the Random Forest model with max_depth=10 is misclassifying our product.\n",
        "\n",
        "Next, we test each model with **national_inv=100 and sales=100000**. The expected output is \"Yes.\" These are the results obtained:\n",
        "\n",
        "*   **Adaboost_1**: Yes\n",
        "*   **Adaboost_10**: Yes\n",
        "*   **Adaboost_25**: Yes\n",
        "\n",
        "*   **RandomForest_1**: Yes\n",
        "*   **RandomForest_10**: Yes\n",
        "*   **RandomForest_25** : *No*\n",
        "\n",
        "\n",
        "Here is the results in tabular form:\n",
        "\n",
        "![](https://drive.google.com/uc?export=view&id=1efOixdGeKGp70hwKrwku_9X0N2J-bShk)\n",
        "\n",
        "We can see that **all 3 of the Adaboost models got both test cases correct**. On the other hand, for Random Forest, **only RandomForest_10 got both cases correct**.\n",
        "\n",
        "Hence, we can conclude that for this dataset, in terms of accuracy and file sizes, Adaboost is the superior model to Random Forest. However, there is a trade-off, and that is the training time. **Adaboost takes twice as long as Random Forest to train.**\n",
        "\n",
        "Since there is not much difference between Adaboost_10 and Adaboost_25 in terms of accuracy, so we can assume that there is diminishing returns after max_depth=10. Thus, **Adaboost_10 is actually the better model out of the two**.\n",
        "\n",
        "We should also keep in mind that **accuracy alone is not enough to tell the effectiveness of a model**, and there are many factors that we should consider."
      ]
    }
  ]
}